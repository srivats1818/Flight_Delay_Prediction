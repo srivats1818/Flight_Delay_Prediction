{
 "cells": [
  {
   "cell_type": "code",
   "execution_count": 1,
   "metadata": {},
   "outputs": [],
   "source": [
    "import pandas as pd\n",
    "import seaborn as sns\n",
    "import matplotlib.pyplot as plt\n",
    "import numpy as np\n",
    "#importing the necessary libraries..."
   ]
  },
  {
   "cell_type": "code",
   "execution_count": 2,
   "metadata": {},
   "outputs": [],
   "source": [
    "df=pd.read_csv(r\"D:\\databaseR\\Flight.csv\")   #reading the file..."
   ]
  },
  {
   "cell_type": "code",
   "execution_count": 3,
   "metadata": {},
   "outputs": [
    {
     "data": {
      "text/html": [
       "<div>\n",
       "<style scoped>\n",
       "    .dataframe tbody tr th:only-of-type {\n",
       "        vertical-align: middle;\n",
       "    }\n",
       "\n",
       "    .dataframe tbody tr th {\n",
       "        vertical-align: top;\n",
       "    }\n",
       "\n",
       "    .dataframe thead th {\n",
       "        text-align: right;\n",
       "    }\n",
       "</style>\n",
       "<table border=\"1\" class=\"dataframe\">\n",
       "  <thead>\n",
       "    <tr style=\"text-align: right;\">\n",
       "      <th></th>\n",
       "      <th>w</th>\n",
       "      <th>DayofMonth</th>\n",
       "      <th>DayOfWeek</th>\n",
       "      <th>DepTime</th>\n",
       "      <th>CRSDepTime</th>\n",
       "      <th>ArrTime</th>\n",
       "      <th>CRSArrTime</th>\n",
       "      <th>FlightNum</th>\n",
       "      <th>ActualElapsedTime</th>\n",
       "      <th>CRSElapsedTime</th>\n",
       "      <th>ArrDelay</th>\n",
       "      <th>Distance</th>\n",
       "      <th>DepDelay</th>\n",
       "    </tr>\n",
       "  </thead>\n",
       "  <tbody>\n",
       "    <tr>\n",
       "      <th>0</th>\n",
       "      <td>10.0</td>\n",
       "      <td>14.0</td>\n",
       "      <td>3.0</td>\n",
       "      <td>741.0</td>\n",
       "      <td>730.0</td>\n",
       "      <td>912.0</td>\n",
       "      <td>849.0</td>\n",
       "      <td>1451.0</td>\n",
       "      <td>91.0</td>\n",
       "      <td>79.0</td>\n",
       "      <td>23.0</td>\n",
       "      <td>447.0</td>\n",
       "      <td>11.0</td>\n",
       "    </tr>\n",
       "    <tr>\n",
       "      <th>1</th>\n",
       "      <td>10.0</td>\n",
       "      <td>15.0</td>\n",
       "      <td>4.0</td>\n",
       "      <td>729.0</td>\n",
       "      <td>730.0</td>\n",
       "      <td>903.0</td>\n",
       "      <td>849.0</td>\n",
       "      <td>1451.0</td>\n",
       "      <td>94.0</td>\n",
       "      <td>79.0</td>\n",
       "      <td>14.0</td>\n",
       "      <td>447.0</td>\n",
       "      <td>-1.0</td>\n",
       "    </tr>\n",
       "    <tr>\n",
       "      <th>2</th>\n",
       "      <td>10.0</td>\n",
       "      <td>17.0</td>\n",
       "      <td>6.0</td>\n",
       "      <td>741.0</td>\n",
       "      <td>730.0</td>\n",
       "      <td>918.0</td>\n",
       "      <td>849.0</td>\n",
       "      <td>1451.0</td>\n",
       "      <td>97.0</td>\n",
       "      <td>79.0</td>\n",
       "      <td>29.0</td>\n",
       "      <td>447.0</td>\n",
       "      <td>11.0</td>\n",
       "    </tr>\n",
       "    <tr>\n",
       "      <th>3</th>\n",
       "      <td>10.0</td>\n",
       "      <td>18.0</td>\n",
       "      <td>7.0</td>\n",
       "      <td>729.0</td>\n",
       "      <td>730.0</td>\n",
       "      <td>847.0</td>\n",
       "      <td>849.0</td>\n",
       "      <td>1451.0</td>\n",
       "      <td>78.0</td>\n",
       "      <td>79.0</td>\n",
       "      <td>-2.0</td>\n",
       "      <td>447.0</td>\n",
       "      <td>-1.0</td>\n",
       "    </tr>\n",
       "    <tr>\n",
       "      <th>4</th>\n",
       "      <td>10.0</td>\n",
       "      <td>19.0</td>\n",
       "      <td>1.0</td>\n",
       "      <td>749.0</td>\n",
       "      <td>730.0</td>\n",
       "      <td>922.0</td>\n",
       "      <td>849.0</td>\n",
       "      <td>1451.0</td>\n",
       "      <td>93.0</td>\n",
       "      <td>79.0</td>\n",
       "      <td>33.0</td>\n",
       "      <td>447.0</td>\n",
       "      <td>19.0</td>\n",
       "    </tr>\n",
       "  </tbody>\n",
       "</table>\n",
       "</div>"
      ],
      "text/plain": [
       "      w  DayofMonth  DayOfWeek  DepTime  CRSDepTime  ArrTime  CRSArrTime  \\\n",
       "0  10.0        14.0        3.0    741.0       730.0    912.0       849.0   \n",
       "1  10.0        15.0        4.0    729.0       730.0    903.0       849.0   \n",
       "2  10.0        17.0        6.0    741.0       730.0    918.0       849.0   \n",
       "3  10.0        18.0        7.0    729.0       730.0    847.0       849.0   \n",
       "4  10.0        19.0        1.0    749.0       730.0    922.0       849.0   \n",
       "\n",
       "   FlightNum  ActualElapsedTime  CRSElapsedTime  ArrDelay  Distance  DepDelay  \n",
       "0     1451.0               91.0            79.0      23.0     447.0      11.0  \n",
       "1     1451.0               94.0            79.0      14.0     447.0      -1.0  \n",
       "2     1451.0               97.0            79.0      29.0     447.0      11.0  \n",
       "3     1451.0               78.0            79.0      -2.0     447.0      -1.0  \n",
       "4     1451.0               93.0            79.0      33.0     447.0      19.0  "
      ]
     },
     "execution_count": 3,
     "metadata": {},
     "output_type": "execute_result"
    }
   ],
   "source": [
    "df.head()    "
   ]
  },
  {
   "cell_type": "code",
   "execution_count": 4,
   "metadata": {},
   "outputs": [
    {
     "data": {
      "text/plain": [
       "(1048575, 13)"
      ]
     },
     "execution_count": 4,
     "metadata": {},
     "output_type": "execute_result"
    }
   ],
   "source": [
    "df.shape   #checking the structure of data..."
   ]
  },
  {
   "cell_type": "markdown",
   "metadata": {},
   "source": [
    "# Data Cleaning"
   ]
  },
  {
   "cell_type": "code",
   "execution_count": 5,
   "metadata": {},
   "outputs": [
    {
     "data": {
      "text/plain": [
       "w                      674\n",
       "DayofMonth             674\n",
       "DayOfWeek              674\n",
       "DepTime              15179\n",
       "CRSDepTime             674\n",
       "ArrTime              17959\n",
       "CRSArrTime             674\n",
       "FlightNum              674\n",
       "ActualElapsedTime    17959\n",
       "CRSElapsedTime         674\n",
       "ArrDelay             17959\n",
       "Distance               674\n",
       "DepDelay             15179\n",
       "dtype: int64"
      ]
     },
     "execution_count": 5,
     "metadata": {},
     "output_type": "execute_result"
    }
   ],
   "source": [
    "df.isnull().sum()   #checking for nulls in data"
   ]
  },
  {
   "cell_type": "markdown",
   "metadata": {},
   "source": [
    "# Checking for total nulls"
   ]
  },
  {
   "cell_type": "code",
   "execution_count": 6,
   "metadata": {},
   "outputs": [
    {
     "data": {
      "text/plain": [
       "8.547504947190236"
      ]
     },
     "execution_count": 6,
     "metadata": {},
     "output_type": "execute_result"
    }
   ],
   "source": [
    "Null_values_percentage=(df.isnull().sum().sum()/len(df))*100\n",
    "Null_values_percentage"
   ]
  },
  {
   "cell_type": "code",
   "execution_count": 7,
   "metadata": {},
   "outputs": [
    {
     "data": {
      "text/plain": [
       "(1030616, 13)"
      ]
     },
     "execution_count": 7,
     "metadata": {},
     "output_type": "execute_result"
    }
   ],
   "source": [
    "# As there are only 8% nulls we drop the null values...\n",
    "df=df.dropna()\n",
    "df.shape"
   ]
  },
  {
   "cell_type": "code",
   "execution_count": 8,
   "metadata": {},
   "outputs": [
    {
     "data": {
      "text/plain": [
       "w                    0\n",
       "DayofMonth           0\n",
       "DayOfWeek            0\n",
       "DepTime              0\n",
       "CRSDepTime           0\n",
       "ArrTime              0\n",
       "CRSArrTime           0\n",
       "FlightNum            0\n",
       "ActualElapsedTime    0\n",
       "CRSElapsedTime       0\n",
       "ArrDelay             0\n",
       "Distance             0\n",
       "DepDelay             0\n",
       "dtype: int64"
      ]
     },
     "execution_count": 8,
     "metadata": {},
     "output_type": "execute_result"
    }
   ],
   "source": [
    "df.isna().sum()   #No nulls present now..."
   ]
  },
  {
   "cell_type": "code",
   "execution_count": 9,
   "metadata": {},
   "outputs": [],
   "source": [
    "df[\"Delayed\"]=df.DepDelay>=15"
   ]
  },
  {
   "cell_type": "code",
   "execution_count": 10,
   "metadata": {},
   "outputs": [],
   "source": [
    "df[\"Delayed\"]= df.Delayed.replace({False:0,True:1})     #if delayed time is greater than 15 then only we will consider flight as delayed..."
   ]
  },
  {
   "cell_type": "code",
   "execution_count": 11,
   "metadata": {},
   "outputs": [
    {
     "data": {
      "text/html": [
       "<div>\n",
       "<style scoped>\n",
       "    .dataframe tbody tr th:only-of-type {\n",
       "        vertical-align: middle;\n",
       "    }\n",
       "\n",
       "    .dataframe tbody tr th {\n",
       "        vertical-align: top;\n",
       "    }\n",
       "\n",
       "    .dataframe thead th {\n",
       "        text-align: right;\n",
       "    }\n",
       "</style>\n",
       "<table border=\"1\" class=\"dataframe\">\n",
       "  <thead>\n",
       "    <tr style=\"text-align: right;\">\n",
       "      <th></th>\n",
       "      <th>w</th>\n",
       "      <th>DayofMonth</th>\n",
       "      <th>DayOfWeek</th>\n",
       "      <th>DepTime</th>\n",
       "      <th>CRSDepTime</th>\n",
       "      <th>ArrTime</th>\n",
       "      <th>CRSArrTime</th>\n",
       "      <th>FlightNum</th>\n",
       "      <th>ActualElapsedTime</th>\n",
       "      <th>CRSElapsedTime</th>\n",
       "      <th>ArrDelay</th>\n",
       "      <th>Distance</th>\n",
       "      <th>DepDelay</th>\n",
       "      <th>Delayed</th>\n",
       "    </tr>\n",
       "  </thead>\n",
       "  <tbody>\n",
       "    <tr>\n",
       "      <th>0</th>\n",
       "      <td>10.0</td>\n",
       "      <td>14.0</td>\n",
       "      <td>3.0</td>\n",
       "      <td>741.0</td>\n",
       "      <td>730.0</td>\n",
       "      <td>912.0</td>\n",
       "      <td>849.0</td>\n",
       "      <td>1451.0</td>\n",
       "      <td>91.0</td>\n",
       "      <td>79.0</td>\n",
       "      <td>23.0</td>\n",
       "      <td>447.0</td>\n",
       "      <td>11.0</td>\n",
       "      <td>0</td>\n",
       "    </tr>\n",
       "    <tr>\n",
       "      <th>1</th>\n",
       "      <td>10.0</td>\n",
       "      <td>15.0</td>\n",
       "      <td>4.0</td>\n",
       "      <td>729.0</td>\n",
       "      <td>730.0</td>\n",
       "      <td>903.0</td>\n",
       "      <td>849.0</td>\n",
       "      <td>1451.0</td>\n",
       "      <td>94.0</td>\n",
       "      <td>79.0</td>\n",
       "      <td>14.0</td>\n",
       "      <td>447.0</td>\n",
       "      <td>-1.0</td>\n",
       "      <td>0</td>\n",
       "    </tr>\n",
       "    <tr>\n",
       "      <th>2</th>\n",
       "      <td>10.0</td>\n",
       "      <td>17.0</td>\n",
       "      <td>6.0</td>\n",
       "      <td>741.0</td>\n",
       "      <td>730.0</td>\n",
       "      <td>918.0</td>\n",
       "      <td>849.0</td>\n",
       "      <td>1451.0</td>\n",
       "      <td>97.0</td>\n",
       "      <td>79.0</td>\n",
       "      <td>29.0</td>\n",
       "      <td>447.0</td>\n",
       "      <td>11.0</td>\n",
       "      <td>0</td>\n",
       "    </tr>\n",
       "    <tr>\n",
       "      <th>3</th>\n",
       "      <td>10.0</td>\n",
       "      <td>18.0</td>\n",
       "      <td>7.0</td>\n",
       "      <td>729.0</td>\n",
       "      <td>730.0</td>\n",
       "      <td>847.0</td>\n",
       "      <td>849.0</td>\n",
       "      <td>1451.0</td>\n",
       "      <td>78.0</td>\n",
       "      <td>79.0</td>\n",
       "      <td>-2.0</td>\n",
       "      <td>447.0</td>\n",
       "      <td>-1.0</td>\n",
       "      <td>0</td>\n",
       "    </tr>\n",
       "    <tr>\n",
       "      <th>4</th>\n",
       "      <td>10.0</td>\n",
       "      <td>19.0</td>\n",
       "      <td>1.0</td>\n",
       "      <td>749.0</td>\n",
       "      <td>730.0</td>\n",
       "      <td>922.0</td>\n",
       "      <td>849.0</td>\n",
       "      <td>1451.0</td>\n",
       "      <td>93.0</td>\n",
       "      <td>79.0</td>\n",
       "      <td>33.0</td>\n",
       "      <td>447.0</td>\n",
       "      <td>19.0</td>\n",
       "      <td>1</td>\n",
       "    </tr>\n",
       "  </tbody>\n",
       "</table>\n",
       "</div>"
      ],
      "text/plain": [
       "      w  DayofMonth  DayOfWeek  DepTime  CRSDepTime  ArrTime  CRSArrTime  \\\n",
       "0  10.0        14.0        3.0    741.0       730.0    912.0       849.0   \n",
       "1  10.0        15.0        4.0    729.0       730.0    903.0       849.0   \n",
       "2  10.0        17.0        6.0    741.0       730.0    918.0       849.0   \n",
       "3  10.0        18.0        7.0    729.0       730.0    847.0       849.0   \n",
       "4  10.0        19.0        1.0    749.0       730.0    922.0       849.0   \n",
       "\n",
       "   FlightNum  ActualElapsedTime  CRSElapsedTime  ArrDelay  Distance  DepDelay  \\\n",
       "0     1451.0               91.0            79.0      23.0     447.0      11.0   \n",
       "1     1451.0               94.0            79.0      14.0     447.0      -1.0   \n",
       "2     1451.0               97.0            79.0      29.0     447.0      11.0   \n",
       "3     1451.0               78.0            79.0      -2.0     447.0      -1.0   \n",
       "4     1451.0               93.0            79.0      33.0     447.0      19.0   \n",
       "\n",
       "   Delayed  \n",
       "0        0  \n",
       "1        0  \n",
       "2        0  \n",
       "3        0  \n",
       "4        1  "
      ]
     },
     "execution_count": 11,
     "metadata": {},
     "output_type": "execute_result"
    }
   ],
   "source": [
    "df.head()"
   ]
  },
  {
   "cell_type": "markdown",
   "metadata": {},
   "source": [
    "# Analysis of Data"
   ]
  },
  {
   "cell_type": "markdown",
   "metadata": {},
   "source": [
    "# Delayed:- Target Variable"
   ]
  },
  {
   "cell_type": "code",
   "execution_count": 12,
   "metadata": {},
   "outputs": [
    {
     "data": {
      "text/plain": [
       "0    882027\n",
       "1    148589\n",
       "Name: Delayed, dtype: int64"
      ]
     },
     "execution_count": 12,
     "metadata": {},
     "output_type": "execute_result"
    }
   ],
   "source": [
    "df['Delayed'].value_counts()"
   ]
  },
  {
   "cell_type": "code",
   "execution_count": 13,
   "metadata": {},
   "outputs": [
    {
     "data": {
      "text/plain": [
       "<matplotlib.axes._subplots.AxesSubplot at 0x1eb1af9ad00>"
      ]
     },
     "execution_count": 13,
     "metadata": {},
     "output_type": "execute_result"
    },
    {
     "data": {
      "image/png": "[encoded data removed]",
      "text/plain": [
       "<Figure size 432x288 with 1 Axes>"
      ]
     },
     "metadata": {
      "needs_background": "light"
     },
     "output_type": "display_data"
    }
   ],
   "source": [
    "sns.countplot(df['Delayed'])"
   ]
  },
  {
   "cell_type": "code",
   "execution_count": 14,
   "metadata": {},
   "outputs": [],
   "source": [
    "# From above plot we can say that 85% of time flight is not delayed..."
   ]
  },
  {
   "cell_type": "markdown",
   "metadata": {},
   "source": [
    "# Day Of Week:-variable"
   ]
  },
  {
   "cell_type": "code",
   "execution_count": 15,
   "metadata": {},
   "outputs": [
    {
     "data": {
      "text/plain": [
       "4.0    156057\n",
       "1.0    151997\n",
       "5.0    149423\n",
       "7.0    145235\n",
       "3.0    144489\n",
       "2.0    143820\n",
       "6.0    139595\n",
       "Name: DayOfWeek, dtype: int64"
      ]
     },
     "execution_count": 15,
     "metadata": {},
     "output_type": "execute_result"
    }
   ],
   "source": [
    "df['DayOfWeek'].value_counts()"
   ]
  },
  {
   "cell_type": "code",
   "execution_count": 16,
   "metadata": {},
   "outputs": [
    {
     "data": {
      "text/plain": [
       "<matplotlib.axes._subplots.AxesSubplot at 0x1eb1c549b80>"
      ]
     },
     "execution_count": 16,
     "metadata": {},
     "output_type": "execute_result"
    },
    {
     "data": {
      "image/png": "[encoded data removed]",
      "text/plain": [
       "<Figure size 432x288 with 1 Axes>"
      ]
     },
     "metadata": {
      "needs_background": "light"
     },
     "output_type": "display_data"
    }
   ],
   "source": [
    "sns.countplot(df['DayOfWeek'])"
   ]
  },
  {
   "cell_type": "code",
   "execution_count": 17,
   "metadata": {},
   "outputs": [],
   "source": [
    "#From above plot we can say that on 4th day of week flights running are highest in number...ArrDelay"
   ]
  },
  {
   "cell_type": "markdown",
   "metadata": {},
   "source": [
    "# Distance:Variable"
   ]
  },
  {
   "cell_type": "code",
   "execution_count": 18,
   "metadata": {},
   "outputs": [
    {
     "data": {
      "text/plain": [
       "<matplotlib.axes._subplots.AxesSubplot at 0x1eb1be040a0>"
      ]
     },
     "execution_count": 18,
     "metadata": {},
     "output_type": "execute_result"
    },
    {
     "data": {
      "image/png": "[encoded data removed]",
      "text/plain": [
       "<Figure size 432x288 with 1 Axes>"
      ]
     },
     "metadata": {
      "needs_background": "light"
     },
     "output_type": "display_data"
    }
   ],
   "source": [
    "sns.distplot(df['Distance'],bins=10,color='k')"
   ]
  },
  {
   "cell_type": "code",
   "execution_count": 19,
   "metadata": {},
   "outputs": [],
   "source": [
    "#Average distnace travelled is around 500 km...DepDelay"
   ]
  },
  {
   "cell_type": "markdown",
   "metadata": {},
   "source": [
    "# DepDelay:Variable"
   ]
  },
  {
   "cell_type": "code",
   "execution_count": 20,
   "metadata": {},
   "outputs": [
    {
     "data": {
      "text/plain": [
       "<matplotlib.axes._subplots.AxesSubplot at 0x1eb1b88a550>"
      ]
     },
     "execution_count": 20,
     "metadata": {},
     "output_type": "execute_result"
    },
    {
     "data": {
      "image/png": "[encoded data removed]",
      "text/plain": [
       "<Figure size 432x288 with 1 Axes>"
      ]
     },
     "metadata": {
      "needs_background": "light"
     },
     "output_type": "display_data"
    }
   ],
   "source": [
    "sns.distplot(df['DepDelay'],bins=10,color='k')"
   ]
  },
  {
   "cell_type": "code",
   "execution_count": 21,
   "metadata": {},
   "outputs": [],
   "source": [
    "# Average departure delay is almost negligible... "
   ]
  },
  {
   "cell_type": "markdown",
   "metadata": {},
   "source": [
    "# ArrDelay:Variable"
   ]
  },
  {
   "cell_type": "code",
   "execution_count": 22,
   "metadata": {},
   "outputs": [
    {
     "data": {
      "text/plain": [
       " 0.0      50585\n",
       " 2.0      37842\n",
       " 3.0      37491\n",
       "-2.0      37271\n",
       " 5.0      36021\n",
       "          ...  \n",
       " 940.0        1\n",
       " 769.0        1\n",
       " 355.0        1\n",
       " 357.0        1\n",
       " 509.0        1\n",
       "Name: ArrDelay, Length: 595, dtype: int64"
      ]
     },
     "execution_count": 22,
     "metadata": {},
     "output_type": "execute_result"
    }
   ],
   "source": [
    "df['ArrDelay'].value_counts()"
   ]
  },
  {
   "cell_type": "code",
   "execution_count": 23,
   "metadata": {},
   "outputs": [
    {
     "data": {
      "text/plain": [
       "<matplotlib.axes._subplots.AxesSubplot at 0x1eb1b8d8670>"
      ]
     },
     "execution_count": 23,
     "metadata": {},
     "output_type": "execute_result"
    },
    {
     "data": {
      "image/png": "[encoded data removed]",
      "text/plain": [
       "<Figure size 432x288 with 1 Axes>"
      ]
     },
     "metadata": {
      "needs_background": "light"
     },
     "output_type": "display_data"
    }
   ],
   "source": [
    "sns.distplot(df['ArrDelay'],bins=10,color='k')"
   ]
  },
  {
   "cell_type": "code",
   "execution_count": 24,
   "metadata": {},
   "outputs": [],
   "source": [
    "# Average arrival delay is almost negligible... "
   ]
  },
  {
   "cell_type": "markdown",
   "metadata": {},
   "source": [
    "# CRSElapsedTime:Variable"
   ]
  },
  {
   "cell_type": "code",
   "execution_count": 25,
   "metadata": {},
   "outputs": [
    {
     "data": {
      "text/plain": [
       " 60.0     36080\n",
       " 50.0     28225\n",
       " 70.0     28062\n",
       " 65.0     25168\n",
       " 55.0     24310\n",
       "          ...  \n",
       " 10.0         1\n",
       " 15.0         1\n",
       "-10.0         1\n",
       " 371.0        1\n",
       " 1.0          1\n",
       "Name: CRSElapsedTime, Length: 406, dtype: int64"
      ]
     },
     "execution_count": 25,
     "metadata": {},
     "output_type": "execute_result"
    }
   ],
   "source": [
    "df['CRSElapsedTime'].value_counts()"
   ]
  },
  {
   "cell_type": "code",
   "execution_count": 26,
   "metadata": {},
   "outputs": [
    {
     "data": {
      "text/plain": [
       "<matplotlib.axes._subplots.AxesSubplot at 0x1eb1b971b50>"
      ]
     },
     "execution_count": 26,
     "metadata": {},
     "output_type": "execute_result"
    },
    {
     "data": {
      "image/png": "[encoded data removed]",
      "text/plain": [
       "<Figure size 432x288 with 1 Axes>"
      ]
     },
     "metadata": {
      "needs_background": "light"
     },
     "output_type": "display_data"
    }
   ],
   "source": [
    "sns.distplot(df['CRSElapsedTime'],bins=10,color='k')  "
   ]
  },
  {
   "cell_type": "code",
   "execution_count": 27,
   "metadata": {},
   "outputs": [],
   "source": [
    "#Average CRSE lapsed Time is around 100..."
   ]
  },
  {
   "cell_type": "markdown",
   "metadata": {},
   "source": [
    "# ActualElapsedTime:-Variable"
   ]
  },
  {
   "cell_type": "code",
   "execution_count": 28,
   "metadata": {},
   "outputs": [
    {
     "data": {
      "text/plain": [
       "60.0     14661\n",
       "65.0     13942\n",
       "55.0     13661\n",
       "70.0     13240\n",
       "50.0     12479\n",
       "         ...  \n",
       "572.0        1\n",
       "671.0        1\n",
       "545.0        1\n",
       "678.0        1\n",
       "620.0        1\n",
       "Name: ActualElapsedTime, Length: 632, dtype: int64"
      ]
     },
     "execution_count": 28,
     "metadata": {},
     "output_type": "execute_result"
    }
   ],
   "source": [
    "df['ActualElapsedTime'].value_counts()"
   ]
  },
  {
   "cell_type": "code",
   "execution_count": 29,
   "metadata": {},
   "outputs": [
    {
     "data": {
      "text/plain": [
       "<matplotlib.axes._subplots.AxesSubplot at 0x1eb1b9ec4f0>"
      ]
     },
     "execution_count": 29,
     "metadata": {},
     "output_type": "execute_result"
    },
    {
     "data": {
      "image/png": "[encoded data removed]",
      "text/plain": [
       "<Figure size 432x288 with 1 Axes>"
      ]
     },
     "metadata": {
      "needs_background": "light"
     },
     "output_type": "display_data"
    }
   ],
   "source": [
    "sns.distplot(df['ActualElapsedTime'],bins=10,color='k')"
   ]
  },
  {
   "cell_type": "code",
   "execution_count": 30,
   "metadata": {},
   "outputs": [],
   "source": [
    "#Average of actual elapsed time is around 100..."
   ]
  },
  {
   "cell_type": "markdown",
   "metadata": {},
   "source": [
    "# FlightNum"
   ]
  },
  {
   "cell_type": "code",
   "execution_count": 31,
   "metadata": {},
   "outputs": [
    {
     "data": {
      "text/plain": [
       "416.0     1537\n",
       "430.0     1472\n",
       "91.0      1458\n",
       "85.0      1444\n",
       "202.0     1443\n",
       "          ... \n",
       "2748.0       1\n",
       "1979.0       1\n",
       "1533.0       1\n",
       "1962.0       1\n",
       "4649.0       1\n",
       "Name: FlightNum, Length: 2141, dtype: int64"
      ]
     },
     "execution_count": 31,
     "metadata": {},
     "output_type": "execute_result"
    }
   ],
   "source": [
    "df['FlightNum'].value_counts()"
   ]
  },
  {
   "cell_type": "code",
   "execution_count": 32,
   "metadata": {},
   "outputs": [
    {
     "data": {
      "text/plain": [
       "<matplotlib.axes._subplots.AxesSubplot at 0x1eb1ba5e790>"
      ]
     },
     "execution_count": 32,
     "metadata": {},
     "output_type": "execute_result"
    },
    {
     "data": {
      "image/png": "[encoded data removed]",
      "text/plain": [
       "<Figure size 432x288 with 1 Axes>"
      ]
     },
     "metadata": {
      "needs_background": "light"
     },
     "output_type": "display_data"
    }
   ],
   "source": [
    "sns.distplot(df['FlightNum'],bins=10,color='k') "
   ]
  },
  {
   "cell_type": "markdown",
   "metadata": {},
   "source": [
    "# CRSArrTime"
   ]
  },
  {
   "cell_type": "code",
   "execution_count": 33,
   "metadata": {},
   "outputs": [
    {
     "data": {
      "text/plain": [
       "<matplotlib.axes._subplots.AxesSubplot at 0x1eb1bac72e0>"
      ]
     },
     "execution_count": 33,
     "metadata": {},
     "output_type": "execute_result"
    },
    {
     "data": {
      "image/png": "[encoded data removed]",
      "text/plain": [
       "<Figure size 432x288 with 1 Axes>"
      ]
     },
     "metadata": {
      "needs_background": "light"
     },
     "output_type": "display_data"
    }
   ],
   "source": [
    "sns.distplot(df['CRSArrTime'],bins=10,color='k')"
   ]
  },
  {
   "cell_type": "code",
   "execution_count": 34,
   "metadata": {},
   "outputs": [],
   "source": [
    "#Average of CRSArrTime is around 1500..."
   ]
  },
  {
   "cell_type": "markdown",
   "metadata": {},
   "source": [
    "# ArrTime:-Variable"
   ]
  },
  {
   "cell_type": "code",
   "execution_count": 35,
   "metadata": {},
   "outputs": [
    {
     "data": {
      "text/plain": [
       "<matplotlib.axes._subplots.AxesSubplot at 0x1eb1bb3d610>"
      ]
     },
     "execution_count": 35,
     "metadata": {},
     "output_type": "execute_result"
    },
    {
     "data": {
      "image/png": "[encoded data removed]",
      "text/plain": [
       "<Figure size 432x288 with 1 Axes>"
      ]
     },
     "metadata": {
      "needs_background": "light"
     },
     "output_type": "display_data"
    }
   ],
   "source": [
    "sns.distplot(df['ArrTime'],bins=10,color='k')"
   ]
  },
  {
   "cell_type": "code",
   "execution_count": 36,
   "metadata": {},
   "outputs": [],
   "source": [
    "#Average of ArrTime is around 1500..."
   ]
  },
  {
   "cell_type": "markdown",
   "metadata": {},
   "source": [
    "# CRSDepTime:-Variable"
   ]
  },
  {
   "cell_type": "code",
   "execution_count": 37,
   "metadata": {},
   "outputs": [
    {
     "data": {
      "text/plain": [
       "<matplotlib.axes._subplots.AxesSubplot at 0x1eb1bbb22b0>"
      ]
     },
     "execution_count": 37,
     "metadata": {},
     "output_type": "execute_result"
    },
    {
     "data": {
      "image/png": "[encoded data removed]",
      "text/plain": [
       "<Figure size 432x288 with 1 Axes>"
      ]
     },
     "metadata": {
      "needs_background": "light"
     },
     "output_type": "display_data"
    }
   ],
   "source": [
    "sns.distplot(df['CRSDepTime'],bins=10,color='k')"
   ]
  },
  {
   "cell_type": "code",
   "execution_count": 38,
   "metadata": {},
   "outputs": [],
   "source": [
    "#Average of CRSDepTime is around 1350..."
   ]
  },
  {
   "cell_type": "markdown",
   "metadata": {},
   "source": [
    "# Dep Time:- Variable"
   ]
  },
  {
   "cell_type": "code",
   "execution_count": 39,
   "metadata": {},
   "outputs": [
    {
     "data": {
      "text/plain": [
       "<matplotlib.axes._subplots.AxesSubplot at 0x1eb1bc275e0>"
      ]
     },
     "execution_count": 39,
     "metadata": {},
     "output_type": "execute_result"
    },
    {
     "data": {
      "image/png": "[encoded data removed]",
      "text/plain": [
       "<Figure size 432x288 with 1 Axes>"
      ]
     },
     "metadata": {
      "needs_background": "light"
     },
     "output_type": "display_data"
    }
   ],
   "source": [
    "sns.distplot(df['DepTime'],bins=10,color='k')"
   ]
  },
  {
   "cell_type": "code",
   "execution_count": 40,
   "metadata": {},
   "outputs": [],
   "source": [
    "#Average of DepTime is around 1350..."
   ]
  },
  {
   "cell_type": "markdown",
   "metadata": {},
   "source": [
    "# Day of Month Variable"
   ]
  },
  {
   "cell_type": "code",
   "execution_count": 41,
   "metadata": {},
   "outputs": [
    {
     "data": {
      "text/plain": [
       "9.0     35090\n",
       "2.0     35075\n",
       "23.0    34833\n",
       "6.0     34822\n",
       "13.0    34713\n",
       "30.0    34610\n",
       "20.0    34593\n",
       "5.0     34430\n",
       "4.0     34351\n",
       "19.0    34288\n",
       "16.0    34283\n",
       "8.0     34269\n",
       "22.0    34248\n",
       "29.0    34143\n",
       "18.0    34077\n",
       "1.0     33950\n",
       "3.0     33935\n",
       "12.0    33907\n",
       "7.0     33880\n",
       "21.0    33715\n",
       "10.0    33604\n",
       "11.0    33475\n",
       "17.0    33347\n",
       "25.0    33156\n",
       "24.0    33128\n",
       "14.0    32792\n",
       "15.0    32248\n",
       "28.0    31919\n",
       "26.0    31124\n",
       "27.0    30138\n",
       "31.0    18473\n",
       "Name: DayofMonth, dtype: int64"
      ]
     },
     "execution_count": 41,
     "metadata": {},
     "output_type": "execute_result"
    }
   ],
   "source": [
    "df['DayofMonth'].value_counts()"
   ]
  },
  {
   "cell_type": "code",
   "execution_count": 42,
   "metadata": {},
   "outputs": [
    {
     "data": {
      "text/plain": [
       "<matplotlib.axes._subplots.AxesSubplot at 0x1eb1b962be0>"
      ]
     },
     "execution_count": 42,
     "metadata": {},
     "output_type": "execute_result"
    },
    {
     "data": {
      "image/png": "[encoded data removed]",
      "text/plain": [
       "<Figure size 432x288 with 1 Axes>"
      ]
     },
     "metadata": {
      "needs_background": "light"
     },
     "output_type": "display_data"
    }
   ],
   "source": [
    "sns.distplot(df['DayofMonth'],hist=True,kde=True,color='k',bins=10)"
   ]
  },
  {
   "cell_type": "markdown",
   "metadata": {},
   "source": [
    "# Co-relation of variables in dataset"
   ]
  },
  {
   "cell_type": "code",
   "execution_count": 43,
   "metadata": {},
   "outputs": [
    {
     "data": {
      "text/html": [
       "<div>\n",
       "<style scoped>\n",
       "    .dataframe tbody tr th:only-of-type {\n",
       "        vertical-align: middle;\n",
       "    }\n",
       "\n",
       "    .dataframe tbody tr th {\n",
       "        vertical-align: top;\n",
       "    }\n",
       "\n",
       "    .dataframe thead th {\n",
       "        text-align: right;\n",
       "    }\n",
       "</style>\n",
       "<table border=\"1\" class=\"dataframe\">\n",
       "  <thead>\n",
       "    <tr style=\"text-align: right;\">\n",
       "      <th></th>\n",
       "      <th>w</th>\n",
       "      <th>DayofMonth</th>\n",
       "      <th>DayOfWeek</th>\n",
       "      <th>DepTime</th>\n",
       "      <th>CRSDepTime</th>\n",
       "      <th>ArrTime</th>\n",
       "      <th>CRSArrTime</th>\n",
       "      <th>FlightNum</th>\n",
       "      <th>ActualElapsedTime</th>\n",
       "      <th>CRSElapsedTime</th>\n",
       "      <th>ArrDelay</th>\n",
       "      <th>Distance</th>\n",
       "      <th>DepDelay</th>\n",
       "      <th>Delayed</th>\n",
       "    </tr>\n",
       "  </thead>\n",
       "  <tbody>\n",
       "    <tr>\n",
       "      <th>w</th>\n",
       "      <td>1.000000</td>\n",
       "      <td>-0.018900</td>\n",
       "      <td>-0.032610</td>\n",
       "      <td>0.004490</td>\n",
       "      <td>0.000745</td>\n",
       "      <td>-0.003260</td>\n",
       "      <td>-0.002086</td>\n",
       "      <td>0.019305</td>\n",
       "      <td>0.017530</td>\n",
       "      <td>0.012551</td>\n",
       "      <td>0.115287</td>\n",
       "      <td>0.006635</td>\n",
       "      <td>0.109071</td>\n",
       "      <td>0.121573</td>\n",
       "    </tr>\n",
       "    <tr>\n",
       "      <th>DayofMonth</th>\n",
       "      <td>-0.018900</td>\n",
       "      <td>1.000000</td>\n",
       "      <td>0.004463</td>\n",
       "      <td>-0.001307</td>\n",
       "      <td>-0.003622</td>\n",
       "      <td>-0.002592</td>\n",
       "      <td>-0.003033</td>\n",
       "      <td>-0.000430</td>\n",
       "      <td>0.005469</td>\n",
       "      <td>0.004397</td>\n",
       "      <td>0.046267</td>\n",
       "      <td>0.003319</td>\n",
       "      <td>0.048393</td>\n",
       "      <td>0.057390</td>\n",
       "    </tr>\n",
       "    <tr>\n",
       "      <th>DayOfWeek</th>\n",
       "      <td>-0.032610</td>\n",
       "      <td>0.004463</td>\n",
       "      <td>1.000000</td>\n",
       "      <td>0.005696</td>\n",
       "      <td>0.006364</td>\n",
       "      <td>0.005386</td>\n",
       "      <td>0.008164</td>\n",
       "      <td>-0.001296</td>\n",
       "      <td>0.000807</td>\n",
       "      <td>0.009619</td>\n",
       "      <td>-0.032619</td>\n",
       "      <td>0.009900</td>\n",
       "      <td>-0.009190</td>\n",
       "      <td>-0.014166</td>\n",
       "    </tr>\n",
       "    <tr>\n",
       "      <th>DepTime</th>\n",
       "      <td>0.004490</td>\n",
       "      <td>-0.001307</td>\n",
       "      <td>0.005696</td>\n",
       "      <td>1.000000</td>\n",
       "      <td>0.981500</td>\n",
       "      <td>0.781862</td>\n",
       "      <td>0.819725</td>\n",
       "      <td>0.020573</td>\n",
       "      <td>-0.045488</td>\n",
       "      <td>-0.044698</td>\n",
       "      <td>0.114994</td>\n",
       "      <td>-0.051242</td>\n",
       "      <td>0.131750</td>\n",
       "      <td>0.159729</td>\n",
       "    </tr>\n",
       "    <tr>\n",
       "      <th>CRSDepTime</th>\n",
       "      <td>0.000745</td>\n",
       "      <td>-0.003622</td>\n",
       "      <td>0.006364</td>\n",
       "      <td>0.981500</td>\n",
       "      <td>1.000000</td>\n",
       "      <td>0.768944</td>\n",
       "      <td>0.815126</td>\n",
       "      <td>0.018367</td>\n",
       "      <td>-0.047189</td>\n",
       "      <td>-0.045753</td>\n",
       "      <td>0.089722</td>\n",
       "      <td>-0.051053</td>\n",
       "      <td>0.102331</td>\n",
       "      <td>0.128992</td>\n",
       "    </tr>\n",
       "    <tr>\n",
       "      <th>ArrTime</th>\n",
       "      <td>-0.003260</td>\n",
       "      <td>-0.002592</td>\n",
       "      <td>0.005386</td>\n",
       "      <td>0.781862</td>\n",
       "      <td>0.768944</td>\n",
       "      <td>1.000000</td>\n",
       "      <td>0.935394</td>\n",
       "      <td>0.005239</td>\n",
       "      <td>0.049833</td>\n",
       "      <td>0.048460</td>\n",
       "      <td>0.070579</td>\n",
       "      <td>0.039033</td>\n",
       "      <td>0.074247</td>\n",
       "      <td>0.122665</td>\n",
       "    </tr>\n",
       "    <tr>\n",
       "      <th>CRSArrTime</th>\n",
       "      <td>-0.002086</td>\n",
       "      <td>-0.003033</td>\n",
       "      <td>0.008164</td>\n",
       "      <td>0.819725</td>\n",
       "      <td>0.815126</td>\n",
       "      <td>0.935394</td>\n",
       "      <td>1.000000</td>\n",
       "      <td>0.002714</td>\n",
       "      <td>0.051900</td>\n",
       "      <td>0.054203</td>\n",
       "      <td>0.087552</td>\n",
       "      <td>0.045649</td>\n",
       "      <td>0.101286</td>\n",
       "      <td>0.125291</td>\n",
       "    </tr>\n",
       "    <tr>\n",
       "      <th>FlightNum</th>\n",
       "      <td>0.019305</td>\n",
       "      <td>-0.000430</td>\n",
       "      <td>-0.001296</td>\n",
       "      <td>0.020573</td>\n",
       "      <td>0.018367</td>\n",
       "      <td>0.005239</td>\n",
       "      <td>0.002714</td>\n",
       "      <td>1.000000</td>\n",
       "      <td>-0.161549</td>\n",
       "      <td>-0.169574</td>\n",
       "      <td>0.044727</td>\n",
       "      <td>-0.168914</td>\n",
       "      <td>0.032287</td>\n",
       "      <td>0.034996</td>\n",
       "    </tr>\n",
       "    <tr>\n",
       "      <th>ActualElapsedTime</th>\n",
       "      <td>0.017530</td>\n",
       "      <td>0.005469</td>\n",
       "      <td>0.000807</td>\n",
       "      <td>-0.045488</td>\n",
       "      <td>-0.047189</td>\n",
       "      <td>0.049833</td>\n",
       "      <td>0.051900</td>\n",
       "      <td>-0.161549</td>\n",
       "      <td>1.000000</td>\n",
       "      <td>0.984082</td>\n",
       "      <td>0.106509</td>\n",
       "      <td>0.973683</td>\n",
       "      <td>0.052865</td>\n",
       "      <td>0.049785</td>\n",
       "    </tr>\n",
       "    <tr>\n",
       "      <th>CRSElapsedTime</th>\n",
       "      <td>0.012551</td>\n",
       "      <td>0.004397</td>\n",
       "      <td>0.009619</td>\n",
       "      <td>-0.044698</td>\n",
       "      <td>-0.045753</td>\n",
       "      <td>0.048460</td>\n",
       "      <td>0.054203</td>\n",
       "      <td>-0.169574</td>\n",
       "      <td>0.984082</td>\n",
       "      <td>1.000000</td>\n",
       "      <td>0.020196</td>\n",
       "      <td>0.985225</td>\n",
       "      <td>0.048660</td>\n",
       "      <td>0.043867</td>\n",
       "    </tr>\n",
       "    <tr>\n",
       "      <th>ArrDelay</th>\n",
       "      <td>0.115287</td>\n",
       "      <td>0.046267</td>\n",
       "      <td>-0.032619</td>\n",
       "      <td>0.114994</td>\n",
       "      <td>0.089722</td>\n",
       "      <td>0.070579</td>\n",
       "      <td>0.087552</td>\n",
       "      <td>0.044727</td>\n",
       "      <td>0.106509</td>\n",
       "      <td>0.020196</td>\n",
       "      <td>1.000000</td>\n",
       "      <td>0.028403</td>\n",
       "      <td>0.746575</td>\n",
       "      <td>0.576530</td>\n",
       "    </tr>\n",
       "    <tr>\n",
       "      <th>Distance</th>\n",
       "      <td>0.006635</td>\n",
       "      <td>0.003319</td>\n",
       "      <td>0.009900</td>\n",
       "      <td>-0.051242</td>\n",
       "      <td>-0.051053</td>\n",
       "      <td>0.039033</td>\n",
       "      <td>0.045649</td>\n",
       "      <td>-0.168914</td>\n",
       "      <td>0.973683</td>\n",
       "      <td>0.985225</td>\n",
       "      <td>0.028403</td>\n",
       "      <td>1.000000</td>\n",
       "      <td>0.045431</td>\n",
       "      <td>0.041656</td>\n",
       "    </tr>\n",
       "    <tr>\n",
       "      <th>DepDelay</th>\n",
       "      <td>0.109071</td>\n",
       "      <td>0.048393</td>\n",
       "      <td>-0.009190</td>\n",
       "      <td>0.131750</td>\n",
       "      <td>0.102331</td>\n",
       "      <td>0.074247</td>\n",
       "      <td>0.101286</td>\n",
       "      <td>0.032287</td>\n",
       "      <td>0.052865</td>\n",
       "      <td>0.048660</td>\n",
       "      <td>0.746575</td>\n",
       "      <td>0.045431</td>\n",
       "      <td>1.000000</td>\n",
       "      <td>0.623769</td>\n",
       "    </tr>\n",
       "    <tr>\n",
       "      <th>Delayed</th>\n",
       "      <td>0.121573</td>\n",
       "      <td>0.057390</td>\n",
       "      <td>-0.014166</td>\n",
       "      <td>0.159729</td>\n",
       "      <td>0.128992</td>\n",
       "      <td>0.122665</td>\n",
       "      <td>0.125291</td>\n",
       "      <td>0.034996</td>\n",
       "      <td>0.049785</td>\n",
       "      <td>0.043867</td>\n",
       "      <td>0.576530</td>\n",
       "      <td>0.041656</td>\n",
       "      <td>0.623769</td>\n",
       "      <td>1.000000</td>\n",
       "    </tr>\n",
       "  </tbody>\n",
       "</table>\n",
       "</div>"
      ],
      "text/plain": [
       "                          w  DayofMonth  DayOfWeek   DepTime  CRSDepTime  \\\n",
       "w                  1.000000   -0.018900  -0.032610  0.004490    0.000745   \n",
       "DayofMonth        -0.018900    1.000000   0.004463 -0.001307   -0.003622   \n",
       "DayOfWeek         -0.032610    0.004463   1.000000  0.005696    0.006364   \n",
       "DepTime            0.004490   -0.001307   0.005696  1.000000    0.981500   \n",
       "CRSDepTime         0.000745   -0.003622   0.006364  0.981500    1.000000   \n",
       "ArrTime           -0.003260   -0.002592   0.005386  0.781862    0.768944   \n",
       "CRSArrTime        -0.002086   -0.003033   0.008164  0.819725    0.815126   \n",
       "FlightNum          0.019305   -0.000430  -0.001296  0.020573    0.018367   \n",
       "ActualElapsedTime  0.017530    0.005469   0.000807 -0.045488   -0.047189   \n",
       "CRSElapsedTime     0.012551    0.004397   0.009619 -0.044698   -0.045753   \n",
       "ArrDelay           0.115287    0.046267  -0.032619  0.114994    0.089722   \n",
       "Distance           0.006635    0.003319   0.009900 -0.051242   -0.051053   \n",
       "DepDelay           0.109071    0.048393  -0.009190  0.131750    0.102331   \n",
       "Delayed            0.121573    0.057390  -0.014166  0.159729    0.128992   \n",
       "\n",
       "                    ArrTime  CRSArrTime  FlightNum  ActualElapsedTime  \\\n",
       "w                 -0.003260   -0.002086   0.019305           0.017530   \n",
       "DayofMonth        -0.002592   -0.003033  -0.000430           0.005469   \n",
       "DayOfWeek          0.005386    0.008164  -0.001296           0.000807   \n",
       "DepTime            0.781862    0.819725   0.020573          -0.045488   \n",
       "CRSDepTime         0.768944    0.815126   0.018367          -0.047189   \n",
       "ArrTime            1.000000    0.935394   0.005239           0.049833   \n",
       "CRSArrTime         0.935394    1.000000   0.002714           0.051900   \n",
       "FlightNum          0.005239    0.002714   1.000000          -0.161549   \n",
       "ActualElapsedTime  0.049833    0.051900  -0.161549           1.000000   \n",
       "CRSElapsedTime     0.048460    0.054203  -0.169574           0.984082   \n",
       "ArrDelay           0.070579    0.087552   0.044727           0.106509   \n",
       "Distance           0.039033    0.045649  -0.168914           0.973683   \n",
       "DepDelay           0.074247    0.101286   0.032287           0.052865   \n",
       "Delayed            0.122665    0.125291   0.034996           0.049785   \n",
       "\n",
       "                   CRSElapsedTime  ArrDelay  Distance  DepDelay   Delayed  \n",
       "w                        0.012551  0.115287  0.006635  0.109071  0.121573  \n",
       "DayofMonth               0.004397  0.046267  0.003319  0.048393  0.057390  \n",
       "DayOfWeek                0.009619 -0.032619  0.009900 -0.009190 -0.014166  \n",
       "DepTime                 -0.044698  0.114994 -0.051242  0.131750  0.159729  \n",
       "CRSDepTime              -0.045753  0.089722 -0.051053  0.102331  0.128992  \n",
       "ArrTime                  0.048460  0.070579  0.039033  0.074247  0.122665  \n",
       "CRSArrTime               0.054203  0.087552  0.045649  0.101286  0.125291  \n",
       "FlightNum               -0.169574  0.044727 -0.168914  0.032287  0.034996  \n",
       "ActualElapsedTime        0.984082  0.106509  0.973683  0.052865  0.049785  \n",
       "CRSElapsedTime           1.000000  0.020196  0.985225  0.048660  0.043867  \n",
       "ArrDelay                 0.020196  1.000000  0.028403  0.746575  0.576530  \n",
       "Distance                 0.985225  0.028403  1.000000  0.045431  0.041656  \n",
       "DepDelay                 0.048660  0.746575  0.045431  1.000000  0.623769  \n",
       "Delayed                  0.043867  0.576530  0.041656  0.623769  1.000000  "
      ]
     },
     "execution_count": 43,
     "metadata": {},
     "output_type": "execute_result"
    }
   ],
   "source": [
    "df.corr()"
   ]
  },
  {
   "cell_type": "code",
   "execution_count": 44,
   "metadata": {},
   "outputs": [],
   "source": [
    "#dropping columns which are not important      CRSDepTime and DepTime (0), CRSArrTime and DepTime (0), CRSArrTime and ArrTime(1), \n",
    "                                               #CRSElapsedTime and ActualElapsedTime(0), ActualElapsedTime & Distance(1),"
   ]
  },
  {
   "cell_type": "code",
   "execution_count": 45,
   "metadata": {},
   "outputs": [],
   "source": [
    "df.drop([\"w\",\"FlightNum\"],axis=1,inplace=True)"
   ]
  },
  {
   "cell_type": "code",
   "execution_count": 46,
   "metadata": {},
   "outputs": [
    {
     "data": {
      "text/html": [
       "<div>\n",
       "<style scoped>\n",
       "    .dataframe tbody tr th:only-of-type {\n",
       "        vertical-align: middle;\n",
       "    }\n",
       "\n",
       "    .dataframe tbody tr th {\n",
       "        vertical-align: top;\n",
       "    }\n",
       "\n",
       "    .dataframe thead th {\n",
       "        text-align: right;\n",
       "    }\n",
       "</style>\n",
       "<table border=\"1\" class=\"dataframe\">\n",
       "  <thead>\n",
       "    <tr style=\"text-align: right;\">\n",
       "      <th></th>\n",
       "      <th>DayofMonth</th>\n",
       "      <th>DayOfWeek</th>\n",
       "      <th>DepTime</th>\n",
       "      <th>CRSDepTime</th>\n",
       "      <th>ArrTime</th>\n",
       "      <th>CRSArrTime</th>\n",
       "      <th>ActualElapsedTime</th>\n",
       "      <th>CRSElapsedTime</th>\n",
       "      <th>ArrDelay</th>\n",
       "      <th>Distance</th>\n",
       "      <th>DepDelay</th>\n",
       "      <th>Delayed</th>\n",
       "    </tr>\n",
       "  </thead>\n",
       "  <tbody>\n",
       "    <tr>\n",
       "      <th>0</th>\n",
       "      <td>14.0</td>\n",
       "      <td>3.0</td>\n",
       "      <td>741.0</td>\n",
       "      <td>730.0</td>\n",
       "      <td>912.0</td>\n",
       "      <td>849.0</td>\n",
       "      <td>91.0</td>\n",
       "      <td>79.0</td>\n",
       "      <td>23.0</td>\n",
       "      <td>447.0</td>\n",
       "      <td>11.0</td>\n",
       "      <td>0</td>\n",
       "    </tr>\n",
       "    <tr>\n",
       "      <th>1</th>\n",
       "      <td>15.0</td>\n",
       "      <td>4.0</td>\n",
       "      <td>729.0</td>\n",
       "      <td>730.0</td>\n",
       "      <td>903.0</td>\n",
       "      <td>849.0</td>\n",
       "      <td>94.0</td>\n",
       "      <td>79.0</td>\n",
       "      <td>14.0</td>\n",
       "      <td>447.0</td>\n",
       "      <td>-1.0</td>\n",
       "      <td>0</td>\n",
       "    </tr>\n",
       "    <tr>\n",
       "      <th>2</th>\n",
       "      <td>17.0</td>\n",
       "      <td>6.0</td>\n",
       "      <td>741.0</td>\n",
       "      <td>730.0</td>\n",
       "      <td>918.0</td>\n",
       "      <td>849.0</td>\n",
       "      <td>97.0</td>\n",
       "      <td>79.0</td>\n",
       "      <td>29.0</td>\n",
       "      <td>447.0</td>\n",
       "      <td>11.0</td>\n",
       "      <td>0</td>\n",
       "    </tr>\n",
       "    <tr>\n",
       "      <th>3</th>\n",
       "      <td>18.0</td>\n",
       "      <td>7.0</td>\n",
       "      <td>729.0</td>\n",
       "      <td>730.0</td>\n",
       "      <td>847.0</td>\n",
       "      <td>849.0</td>\n",
       "      <td>78.0</td>\n",
       "      <td>79.0</td>\n",
       "      <td>-2.0</td>\n",
       "      <td>447.0</td>\n",
       "      <td>-1.0</td>\n",
       "      <td>0</td>\n",
       "    </tr>\n",
       "    <tr>\n",
       "      <th>4</th>\n",
       "      <td>19.0</td>\n",
       "      <td>1.0</td>\n",
       "      <td>749.0</td>\n",
       "      <td>730.0</td>\n",
       "      <td>922.0</td>\n",
       "      <td>849.0</td>\n",
       "      <td>93.0</td>\n",
       "      <td>79.0</td>\n",
       "      <td>33.0</td>\n",
       "      <td>447.0</td>\n",
       "      <td>19.0</td>\n",
       "      <td>1</td>\n",
       "    </tr>\n",
       "  </tbody>\n",
       "</table>\n",
       "</div>"
      ],
      "text/plain": [
       "   DayofMonth  DayOfWeek  DepTime  CRSDepTime  ArrTime  CRSArrTime  \\\n",
       "0        14.0        3.0    741.0       730.0    912.0       849.0   \n",
       "1        15.0        4.0    729.0       730.0    903.0       849.0   \n",
       "2        17.0        6.0    741.0       730.0    918.0       849.0   \n",
       "3        18.0        7.0    729.0       730.0    847.0       849.0   \n",
       "4        19.0        1.0    749.0       730.0    922.0       849.0   \n",
       "\n",
       "   ActualElapsedTime  CRSElapsedTime  ArrDelay  Distance  DepDelay  Delayed  \n",
       "0               91.0            79.0      23.0     447.0      11.0        0  \n",
       "1               94.0            79.0      14.0     447.0      -1.0        0  \n",
       "2               97.0            79.0      29.0     447.0      11.0        0  \n",
       "3               78.0            79.0      -2.0     447.0      -1.0        0  \n",
       "4               93.0            79.0      33.0     447.0      19.0        1  "
      ]
     },
     "execution_count": 46,
     "metadata": {},
     "output_type": "execute_result"
    }
   ],
   "source": [
    "df.head()"
   ]
  },
  {
   "cell_type": "code",
   "execution_count": 47,
   "metadata": {},
   "outputs": [
    {
     "data": {
      "text/plain": [
       "0    882027\n",
       "1    148589\n",
       "Name: Delayed, dtype: int64"
      ]
     },
     "execution_count": 47,
     "metadata": {},
     "output_type": "execute_result"
    }
   ],
   "source": [
    "df.Delayed.value_counts()"
   ]
  },
  {
   "cell_type": "code",
   "execution_count": 48,
   "metadata": {},
   "outputs": [],
   "source": [
    "# As we can see that the data is highly imbalanced, so we need to do sampling on this data"
   ]
  },
  {
   "cell_type": "markdown",
   "metadata": {},
   "source": [
    "# Sampling"
   ]
  },
  {
   "cell_type": "code",
   "execution_count": 49,
   "metadata": {},
   "outputs": [],
   "source": [
    "# Here we do oversampling...\n",
    "from sklearn.model_selection import train_test_split"
   ]
  },
  {
   "cell_type": "code",
   "execution_count": 50,
   "metadata": {},
   "outputs": [],
   "source": [
    "df_train, df_test= train_test_split(df, test_size=.3)  #split data into train and test"
   ]
  },
  {
   "cell_type": "code",
   "execution_count": 51,
   "metadata": {},
   "outputs": [
    {
     "data": {
      "text/plain": [
       "0    617570\n",
       "1    103861\n",
       "Name: Delayed, dtype: int64"
      ]
     },
     "execution_count": 51,
     "metadata": {},
     "output_type": "execute_result"
    }
   ],
   "source": [
    "df_train.Delayed.value_counts()"
   ]
  },
  {
   "cell_type": "code",
   "execution_count": 52,
   "metadata": {},
   "outputs": [],
   "source": [
    "df2= df_train[df_train.Delayed==1]"
   ]
  },
  {
   "cell_type": "code",
   "execution_count": 53,
   "metadata": {},
   "outputs": [],
   "source": [
    "# Steps for solving oversampling\n",
    "dfnew_train= pd.concat([df_train,df2,df2])     #increasing the count of 1..."
   ]
  },
  {
   "cell_type": "code",
   "execution_count": 54,
   "metadata": {},
   "outputs": [
    {
     "data": {
      "text/plain": [
       "0    617570\n",
       "1    311583\n",
       "Name: Delayed, dtype: int64"
      ]
     },
     "execution_count": 54,
     "metadata": {},
     "output_type": "execute_result"
    }
   ],
   "source": [
    "dfnew_train.Delayed.value_counts()"
   ]
  },
  {
   "cell_type": "code",
   "execution_count": 55,
   "metadata": {},
   "outputs": [],
   "source": [
    "#Now data is balanced..."
   ]
  },
  {
   "cell_type": "code",
   "execution_count": 56,
   "metadata": {},
   "outputs": [
    {
     "data": {
      "text/html": [
       "<div>\n",
       "<style scoped>\n",
       "    .dataframe tbody tr th:only-of-type {\n",
       "        vertical-align: middle;\n",
       "    }\n",
       "\n",
       "    .dataframe tbody tr th {\n",
       "        vertical-align: top;\n",
       "    }\n",
       "\n",
       "    .dataframe thead th {\n",
       "        text-align: right;\n",
       "    }\n",
       "</style>\n",
       "<table border=\"1\" class=\"dataframe\">\n",
       "  <thead>\n",
       "    <tr style=\"text-align: right;\">\n",
       "      <th></th>\n",
       "      <th>DayofMonth</th>\n",
       "      <th>DayOfWeek</th>\n",
       "      <th>DepTime</th>\n",
       "      <th>CRSDepTime</th>\n",
       "      <th>ArrTime</th>\n",
       "      <th>CRSArrTime</th>\n",
       "      <th>ActualElapsedTime</th>\n",
       "      <th>CRSElapsedTime</th>\n",
       "      <th>ArrDelay</th>\n",
       "      <th>Distance</th>\n",
       "      <th>DepDelay</th>\n",
       "      <th>Delayed</th>\n",
       "    </tr>\n",
       "  </thead>\n",
       "  <tbody>\n",
       "    <tr>\n",
       "      <th>DayofMonth</th>\n",
       "      <td>1.000000</td>\n",
       "      <td>0.004463</td>\n",
       "      <td>-0.001307</td>\n",
       "      <td>-0.003622</td>\n",
       "      <td>-0.002592</td>\n",
       "      <td>-0.003033</td>\n",
       "      <td>0.005469</td>\n",
       "      <td>0.004397</td>\n",
       "      <td>0.046267</td>\n",
       "      <td>0.003319</td>\n",
       "      <td>0.048393</td>\n",
       "      <td>0.057390</td>\n",
       "    </tr>\n",
       "    <tr>\n",
       "      <th>DayOfWeek</th>\n",
       "      <td>0.004463</td>\n",
       "      <td>1.000000</td>\n",
       "      <td>0.005696</td>\n",
       "      <td>0.006364</td>\n",
       "      <td>0.005386</td>\n",
       "      <td>0.008164</td>\n",
       "      <td>0.000807</td>\n",
       "      <td>0.009619</td>\n",
       "      <td>-0.032619</td>\n",
       "      <td>0.009900</td>\n",
       "      <td>-0.009190</td>\n",
       "      <td>-0.014166</td>\n",
       "    </tr>\n",
       "    <tr>\n",
       "      <th>DepTime</th>\n",
       "      <td>-0.001307</td>\n",
       "      <td>0.005696</td>\n",
       "      <td>1.000000</td>\n",
       "      <td>0.981500</td>\n",
       "      <td>0.781862</td>\n",
       "      <td>0.819725</td>\n",
       "      <td>-0.045488</td>\n",
       "      <td>-0.044698</td>\n",
       "      <td>0.114994</td>\n",
       "      <td>-0.051242</td>\n",
       "      <td>0.131750</td>\n",
       "      <td>0.159729</td>\n",
       "    </tr>\n",
       "    <tr>\n",
       "      <th>CRSDepTime</th>\n",
       "      <td>-0.003622</td>\n",
       "      <td>0.006364</td>\n",
       "      <td>0.981500</td>\n",
       "      <td>1.000000</td>\n",
       "      <td>0.768944</td>\n",
       "      <td>0.815126</td>\n",
       "      <td>-0.047189</td>\n",
       "      <td>-0.045753</td>\n",
       "      <td>0.089722</td>\n",
       "      <td>-0.051053</td>\n",
       "      <td>0.102331</td>\n",
       "      <td>0.128992</td>\n",
       "    </tr>\n",
       "    <tr>\n",
       "      <th>ArrTime</th>\n",
       "      <td>-0.002592</td>\n",
       "      <td>0.005386</td>\n",
       "      <td>0.781862</td>\n",
       "      <td>0.768944</td>\n",
       "      <td>1.000000</td>\n",
       "      <td>0.935394</td>\n",
       "      <td>0.049833</td>\n",
       "      <td>0.048460</td>\n",
       "      <td>0.070579</td>\n",
       "      <td>0.039033</td>\n",
       "      <td>0.074247</td>\n",
       "      <td>0.122665</td>\n",
       "    </tr>\n",
       "    <tr>\n",
       "      <th>CRSArrTime</th>\n",
       "      <td>-0.003033</td>\n",
       "      <td>0.008164</td>\n",
       "      <td>0.819725</td>\n",
       "      <td>0.815126</td>\n",
       "      <td>0.935394</td>\n",
       "      <td>1.000000</td>\n",
       "      <td>0.051900</td>\n",
       "      <td>0.054203</td>\n",
       "      <td>0.087552</td>\n",
       "      <td>0.045649</td>\n",
       "      <td>0.101286</td>\n",
       "      <td>0.125291</td>\n",
       "    </tr>\n",
       "    <tr>\n",
       "      <th>ActualElapsedTime</th>\n",
       "      <td>0.005469</td>\n",
       "      <td>0.000807</td>\n",
       "      <td>-0.045488</td>\n",
       "      <td>-0.047189</td>\n",
       "      <td>0.049833</td>\n",
       "      <td>0.051900</td>\n",
       "      <td>1.000000</td>\n",
       "      <td>0.984082</td>\n",
       "      <td>0.106509</td>\n",
       "      <td>0.973683</td>\n",
       "      <td>0.052865</td>\n",
       "      <td>0.049785</td>\n",
       "    </tr>\n",
       "    <tr>\n",
       "      <th>CRSElapsedTime</th>\n",
       "      <td>0.004397</td>\n",
       "      <td>0.009619</td>\n",
       "      <td>-0.044698</td>\n",
       "      <td>-0.045753</td>\n",
       "      <td>0.048460</td>\n",
       "      <td>0.054203</td>\n",
       "      <td>0.984082</td>\n",
       "      <td>1.000000</td>\n",
       "      <td>0.020196</td>\n",
       "      <td>0.985225</td>\n",
       "      <td>0.048660</td>\n",
       "      <td>0.043867</td>\n",
       "    </tr>\n",
       "    <tr>\n",
       "      <th>ArrDelay</th>\n",
       "      <td>0.046267</td>\n",
       "      <td>-0.032619</td>\n",
       "      <td>0.114994</td>\n",
       "      <td>0.089722</td>\n",
       "      <td>0.070579</td>\n",
       "      <td>0.087552</td>\n",
       "      <td>0.106509</td>\n",
       "      <td>0.020196</td>\n",
       "      <td>1.000000</td>\n",
       "      <td>0.028403</td>\n",
       "      <td>0.746575</td>\n",
       "      <td>0.576530</td>\n",
       "    </tr>\n",
       "    <tr>\n",
       "      <th>Distance</th>\n",
       "      <td>0.003319</td>\n",
       "      <td>0.009900</td>\n",
       "      <td>-0.051242</td>\n",
       "      <td>-0.051053</td>\n",
       "      <td>0.039033</td>\n",
       "      <td>0.045649</td>\n",
       "      <td>0.973683</td>\n",
       "      <td>0.985225</td>\n",
       "      <td>0.028403</td>\n",
       "      <td>1.000000</td>\n",
       "      <td>0.045431</td>\n",
       "      <td>0.041656</td>\n",
       "    </tr>\n",
       "    <tr>\n",
       "      <th>DepDelay</th>\n",
       "      <td>0.048393</td>\n",
       "      <td>-0.009190</td>\n",
       "      <td>0.131750</td>\n",
       "      <td>0.102331</td>\n",
       "      <td>0.074247</td>\n",
       "      <td>0.101286</td>\n",
       "      <td>0.052865</td>\n",
       "      <td>0.048660</td>\n",
       "      <td>0.746575</td>\n",
       "      <td>0.045431</td>\n",
       "      <td>1.000000</td>\n",
       "      <td>0.623769</td>\n",
       "    </tr>\n",
       "    <tr>\n",
       "      <th>Delayed</th>\n",
       "      <td>0.057390</td>\n",
       "      <td>-0.014166</td>\n",
       "      <td>0.159729</td>\n",
       "      <td>0.128992</td>\n",
       "      <td>0.122665</td>\n",
       "      <td>0.125291</td>\n",
       "      <td>0.049785</td>\n",
       "      <td>0.043867</td>\n",
       "      <td>0.576530</td>\n",
       "      <td>0.041656</td>\n",
       "      <td>0.623769</td>\n",
       "      <td>1.000000</td>\n",
       "    </tr>\n",
       "  </tbody>\n",
       "</table>\n",
       "</div>"
      ],
      "text/plain": [
       "                   DayofMonth  DayOfWeek   DepTime  CRSDepTime   ArrTime  \\\n",
       "DayofMonth           1.000000   0.004463 -0.001307   -0.003622 -0.002592   \n",
       "DayOfWeek            0.004463   1.000000  0.005696    0.006364  0.005386   \n",
       "DepTime             -0.001307   0.005696  1.000000    0.981500  0.781862   \n",
       "CRSDepTime          -0.003622   0.006364  0.981500    1.000000  0.768944   \n",
       "ArrTime             -0.002592   0.005386  0.781862    0.768944  1.000000   \n",
       "CRSArrTime          -0.003033   0.008164  0.819725    0.815126  0.935394   \n",
       "ActualElapsedTime    0.005469   0.000807 -0.045488   -0.047189  0.049833   \n",
       "CRSElapsedTime       0.004397   0.009619 -0.044698   -0.045753  0.048460   \n",
       "ArrDelay             0.046267  -0.032619  0.114994    0.089722  0.070579   \n",
       "Distance             0.003319   0.009900 -0.051242   -0.051053  0.039033   \n",
       "DepDelay             0.048393  -0.009190  0.131750    0.102331  0.074247   \n",
       "Delayed              0.057390  -0.014166  0.159729    0.128992  0.122665   \n",
       "\n",
       "                   CRSArrTime  ActualElapsedTime  CRSElapsedTime  ArrDelay  \\\n",
       "DayofMonth          -0.003033           0.005469        0.004397  0.046267   \n",
       "DayOfWeek            0.008164           0.000807        0.009619 -0.032619   \n",
       "DepTime              0.819725          -0.045488       -0.044698  0.114994   \n",
       "CRSDepTime           0.815126          -0.047189       -0.045753  0.089722   \n",
       "ArrTime              0.935394           0.049833        0.048460  0.070579   \n",
       "CRSArrTime           1.000000           0.051900        0.054203  0.087552   \n",
       "ActualElapsedTime    0.051900           1.000000        0.984082  0.106509   \n",
       "CRSElapsedTime       0.054203           0.984082        1.000000  0.020196   \n",
       "ArrDelay             0.087552           0.106509        0.020196  1.000000   \n",
       "Distance             0.045649           0.973683        0.985225  0.028403   \n",
       "DepDelay             0.101286           0.052865        0.048660  0.746575   \n",
       "Delayed              0.125291           0.049785        0.043867  0.576530   \n",
       "\n",
       "                   Distance  DepDelay   Delayed  \n",
       "DayofMonth         0.003319  0.048393  0.057390  \n",
       "DayOfWeek          0.009900 -0.009190 -0.014166  \n",
       "DepTime           -0.051242  0.131750  0.159729  \n",
       "CRSDepTime        -0.051053  0.102331  0.128992  \n",
       "ArrTime            0.039033  0.074247  0.122665  \n",
       "CRSArrTime         0.045649  0.101286  0.125291  \n",
       "ActualElapsedTime  0.973683  0.052865  0.049785  \n",
       "CRSElapsedTime     0.985225  0.048660  0.043867  \n",
       "ArrDelay           0.028403  0.746575  0.576530  \n",
       "Distance           1.000000  0.045431  0.041656  \n",
       "DepDelay           0.045431  1.000000  0.623769  \n",
       "Delayed            0.041656  0.623769  1.000000  "
      ]
     },
     "execution_count": 56,
     "metadata": {},
     "output_type": "execute_result"
    }
   ],
   "source": [
    "df.corr()"
   ]
  },
  {
   "cell_type": "code",
   "execution_count": 57,
   "metadata": {},
   "outputs": [
    {
     "data": {
      "text/html": [
       "<div>\n",
       "<style scoped>\n",
       "    .dataframe tbody tr th:only-of-type {\n",
       "        vertical-align: middle;\n",
       "    }\n",
       "\n",
       "    .dataframe tbody tr th {\n",
       "        vertical-align: top;\n",
       "    }\n",
       "\n",
       "    .dataframe thead th {\n",
       "        text-align: right;\n",
       "    }\n",
       "</style>\n",
       "<table border=\"1\" class=\"dataframe\">\n",
       "  <thead>\n",
       "    <tr style=\"text-align: right;\">\n",
       "      <th></th>\n",
       "      <th>DayofMonth</th>\n",
       "      <th>DayOfWeek</th>\n",
       "      <th>DepTime</th>\n",
       "      <th>CRSDepTime</th>\n",
       "      <th>ArrTime</th>\n",
       "      <th>CRSArrTime</th>\n",
       "      <th>ActualElapsedTime</th>\n",
       "      <th>CRSElapsedTime</th>\n",
       "      <th>ArrDelay</th>\n",
       "      <th>Distance</th>\n",
       "      <th>DepDelay</th>\n",
       "      <th>Delayed</th>\n",
       "    </tr>\n",
       "  </thead>\n",
       "  <tbody>\n",
       "    <tr>\n",
       "      <th>319285</th>\n",
       "      <td>12.0</td>\n",
       "      <td>1.0</td>\n",
       "      <td>2059.0</td>\n",
       "      <td>2056.0</td>\n",
       "      <td>2047.0</td>\n",
       "      <td>2037.0</td>\n",
       "      <td>48.0</td>\n",
       "      <td>41.0</td>\n",
       "      <td>10.0</td>\n",
       "      <td>134.0</td>\n",
       "      <td>3.0</td>\n",
       "      <td>0</td>\n",
       "    </tr>\n",
       "    <tr>\n",
       "      <th>615576</th>\n",
       "      <td>26.0</td>\n",
       "      <td>4.0</td>\n",
       "      <td>1125.0</td>\n",
       "      <td>1110.0</td>\n",
       "      <td>1232.0</td>\n",
       "      <td>1222.0</td>\n",
       "      <td>67.0</td>\n",
       "      <td>72.0</td>\n",
       "      <td>10.0</td>\n",
       "      <td>449.0</td>\n",
       "      <td>15.0</td>\n",
       "      <td>1</td>\n",
       "    </tr>\n",
       "    <tr>\n",
       "      <th>223204</th>\n",
       "      <td>2.0</td>\n",
       "      <td>5.0</td>\n",
       "      <td>704.0</td>\n",
       "      <td>705.0</td>\n",
       "      <td>801.0</td>\n",
       "      <td>807.0</td>\n",
       "      <td>57.0</td>\n",
       "      <td>62.0</td>\n",
       "      <td>-6.0</td>\n",
       "      <td>351.0</td>\n",
       "      <td>-1.0</td>\n",
       "      <td>0</td>\n",
       "    </tr>\n",
       "    <tr>\n",
       "      <th>107811</th>\n",
       "      <td>16.0</td>\n",
       "      <td>5.0</td>\n",
       "      <td>1201.0</td>\n",
       "      <td>1150.0</td>\n",
       "      <td>1301.0</td>\n",
       "      <td>1240.0</td>\n",
       "      <td>60.0</td>\n",
       "      <td>50.0</td>\n",
       "      <td>21.0</td>\n",
       "      <td>223.0</td>\n",
       "      <td>11.0</td>\n",
       "      <td>0</td>\n",
       "    </tr>\n",
       "    <tr>\n",
       "      <th>35705</th>\n",
       "      <td>10.0</td>\n",
       "      <td>6.0</td>\n",
       "      <td>701.0</td>\n",
       "      <td>645.0</td>\n",
       "      <td>1227.0</td>\n",
       "      <td>1205.0</td>\n",
       "      <td>206.0</td>\n",
       "      <td>200.0</td>\n",
       "      <td>22.0</td>\n",
       "      <td>1558.0</td>\n",
       "      <td>16.0</td>\n",
       "      <td>1</td>\n",
       "    </tr>\n",
       "  </tbody>\n",
       "</table>\n",
       "</div>"
      ],
      "text/plain": [
       "        DayofMonth  DayOfWeek  DepTime  CRSDepTime  ArrTime  CRSArrTime  \\\n",
       "319285        12.0        1.0   2059.0      2056.0   2047.0      2037.0   \n",
       "615576        26.0        4.0   1125.0      1110.0   1232.0      1222.0   \n",
       "223204         2.0        5.0    704.0       705.0    801.0       807.0   \n",
       "107811        16.0        5.0   1201.0      1150.0   1301.0      1240.0   \n",
       "35705         10.0        6.0    701.0       645.0   1227.0      1205.0   \n",
       "\n",
       "        ActualElapsedTime  CRSElapsedTime  ArrDelay  Distance  DepDelay  \\\n",
       "319285               48.0            41.0      10.0     134.0       3.0   \n",
       "615576               67.0            72.0      10.0     449.0      15.0   \n",
       "223204               57.0            62.0      -6.0     351.0      -1.0   \n",
       "107811               60.0            50.0      21.0     223.0      11.0   \n",
       "35705               206.0           200.0      22.0    1558.0      16.0   \n",
       "\n",
       "        Delayed  \n",
       "319285        0  \n",
       "615576        1  \n",
       "223204        0  \n",
       "107811        0  \n",
       "35705         1  "
      ]
     },
     "execution_count": 57,
     "metadata": {},
     "output_type": "execute_result"
    }
   ],
   "source": [
    "dfnew_train.head()"
   ]
  },
  {
   "cell_type": "code",
   "execution_count": 58,
   "metadata": {},
   "outputs": [
    {
     "data": {
      "text/plain": [
       "(1030616, 12)"
      ]
     },
     "execution_count": 58,
     "metadata": {},
     "output_type": "execute_result"
    }
   ],
   "source": [
    "df.shape"
   ]
  },
  {
   "cell_type": "code",
   "execution_count": 59,
   "metadata": {},
   "outputs": [],
   "source": [
    "dfnew_x_train= dfnew_train.iloc[:,[2,7,8,9]]\n",
    "dfnew_y_train=dfnew_train.iloc[:,11]"
   ]
  },
  {
   "cell_type": "code",
   "execution_count": 60,
   "metadata": {},
   "outputs": [],
   "source": [
    "dfnew_x_test= df_test.iloc[:,[2,7,8,9]]\n",
    "dfnew_y_test=df_test.iloc[:,11]"
   ]
  },
  {
   "cell_type": "markdown",
   "metadata": {},
   "source": [
    "# Logistic Regression"
   ]
  },
  {
   "cell_type": "code",
   "execution_count": 61,
   "metadata": {},
   "outputs": [],
   "source": [
    "from sklearn.linear_model import LogisticRegression\n",
    "logreg=LogisticRegression()"
   ]
  },
  {
   "cell_type": "code",
   "execution_count": 62,
   "metadata": {},
   "outputs": [
    {
     "data": {
      "text/plain": [
       "LogisticRegression()"
      ]
     },
     "execution_count": 62,
     "metadata": {},
     "output_type": "execute_result"
    }
   ],
   "source": [
    "logreg.fit(dfnew_x_train,dfnew_y_train)"
   ]
  },
  {
   "cell_type": "code",
   "execution_count": 63,
   "metadata": {},
   "outputs": [],
   "source": [
    "pred_log=logreg.predict(dfnew_x_test)"
   ]
  },
  {
   "cell_type": "code",
   "execution_count": 64,
   "metadata": {},
   "outputs": [],
   "source": [
    "from sklearn.metrics import confusion_matrix"
   ]
  },
  {
   "cell_type": "code",
   "execution_count": 65,
   "metadata": {},
   "outputs": [
    {
     "data": {
      "text/plain": [
       "array([[248003,  10827],\n",
       "       [ 16454,  33901]], dtype=int64)"
      ]
     },
     "execution_count": 65,
     "metadata": {},
     "output_type": "execute_result"
    }
   ],
   "source": [
    "tab_log= confusion_matrix(pred_log,dfnew_y_test)\n",
    "tab_log"
   ]
  },
  {
   "cell_type": "code",
   "execution_count": 66,
   "metadata": {},
   "outputs": [
    {
     "data": {
      "text/plain": [
       "0.9117648010091046"
      ]
     },
     "execution_count": 66,
     "metadata": {},
     "output_type": "execute_result"
    }
   ],
   "source": [
    "ac_log=tab_log.diagonal().sum()/tab_log.sum()\n",
    "ac_log"
   ]
  },
  {
   "cell_type": "code",
   "execution_count": 67,
   "metadata": {},
   "outputs": [],
   "source": [
    "# TPR=91 % and FPR=24%"
   ]
  },
  {
   "cell_type": "code",
   "execution_count": 68,
   "metadata": {},
   "outputs": [],
   "source": [
    "# feature importance\n",
    "feature_imp=pd.DataFrame({\"Features\":dfnew_x_train.columns,\"Coefficients\":np.ravel(logreg.coef_)})"
   ]
  },
  {
   "cell_type": "code",
   "execution_count": 69,
   "metadata": {},
   "outputs": [
    {
     "data": {
      "text/html": [
       "<div>\n",
       "<style scoped>\n",
       "    .dataframe tbody tr th:only-of-type {\n",
       "        vertical-align: middle;\n",
       "    }\n",
       "\n",
       "    .dataframe tbody tr th {\n",
       "        vertical-align: top;\n",
       "    }\n",
       "\n",
       "    .dataframe thead th {\n",
       "        text-align: right;\n",
       "    }\n",
       "</style>\n",
       "<table border=\"1\" class=\"dataframe\">\n",
       "  <thead>\n",
       "    <tr style=\"text-align: right;\">\n",
       "      <th></th>\n",
       "      <th>Features</th>\n",
       "      <th>Coefficients</th>\n",
       "    </tr>\n",
       "  </thead>\n",
       "  <tbody>\n",
       "    <tr>\n",
       "      <th>3</th>\n",
       "      <td>Distance</td>\n",
       "      <td>-0.002299</td>\n",
       "    </tr>\n",
       "    <tr>\n",
       "      <th>0</th>\n",
       "      <td>DepTime</td>\n",
       "      <td>0.000781</td>\n",
       "    </tr>\n",
       "    <tr>\n",
       "      <th>1</th>\n",
       "      <td>CRSElapsedTime</td>\n",
       "      <td>0.020331</td>\n",
       "    </tr>\n",
       "    <tr>\n",
       "      <th>2</th>\n",
       "      <td>ArrDelay</td>\n",
       "      <td>0.147309</td>\n",
       "    </tr>\n",
       "  </tbody>\n",
       "</table>\n",
       "</div>"
      ],
      "text/plain": [
       "         Features  Coefficients\n",
       "3        Distance     -0.002299\n",
       "0         DepTime      0.000781\n",
       "1  CRSElapsedTime      0.020331\n",
       "2        ArrDelay      0.147309"
      ]
     },
     "execution_count": 69,
     "metadata": {},
     "output_type": "execute_result"
    }
   ],
   "source": [
    "feature_imp.sort_values(by=\"Coefficients\",ascending=True,inplace=True)\n",
    "feature_imp"
   ]
  },
  {
   "cell_type": "code",
   "execution_count": 70,
   "metadata": {},
   "outputs": [],
   "source": [
    "# ROC AND AUC"
   ]
  },
  {
   "cell_type": "code",
   "execution_count": 71,
   "metadata": {},
   "outputs": [],
   "source": [
    "from sklearn.metrics import roc_auc_score, roc_curve"
   ]
  },
  {
   "cell_type": "code",
   "execution_count": 72,
   "metadata": {},
   "outputs": [
    {
     "data": {
      "text/plain": [
       "0.8157047254413687"
      ]
     },
     "execution_count": 72,
     "metadata": {},
     "output_type": "execute_result"
    }
   ],
   "source": [
    "roc_score_log=roc_auc_score(pred_log,dfnew_y_test)\n",
    "roc_score_log"
   ]
  },
  {
   "cell_type": "code",
   "execution_count": 73,
   "metadata": {},
   "outputs": [],
   "source": [
    "# F1 score\n",
    "from sklearn.metrics import f1_score"
   ]
  },
  {
   "cell_type": "code",
   "execution_count": 74,
   "metadata": {},
   "outputs": [
    {
     "data": {
      "text/plain": [
       "0.7130822544513742"
      ]
     },
     "execution_count": 74,
     "metadata": {},
     "output_type": "execute_result"
    }
   ],
   "source": [
    "f1_log=f1_score(dfnew_y_test,pred_log)\n",
    "f1_log"
   ]
  },
  {
   "cell_type": "markdown",
   "metadata": {},
   "source": [
    "# Decision Tree"
   ]
  },
  {
   "cell_type": "code",
   "execution_count": 75,
   "metadata": {},
   "outputs": [],
   "source": [
    "from sklearn.tree import DecisionTreeClassifier\n",
    "dt=DecisionTreeClassifier()"
   ]
  },
  {
   "cell_type": "code",
   "execution_count": 76,
   "metadata": {},
   "outputs": [
    {
     "data": {
      "text/plain": [
       "DecisionTreeClassifier()"
      ]
     },
     "execution_count": 76,
     "metadata": {},
     "output_type": "execute_result"
    }
   ],
   "source": [
    "dt.fit(dfnew_x_train,dfnew_y_train)"
   ]
  },
  {
   "cell_type": "code",
   "execution_count": 77,
   "metadata": {},
   "outputs": [],
   "source": [
    "pred_dt= dt.predict(dfnew_x_test)"
   ]
  },
  {
   "cell_type": "code",
   "execution_count": 78,
   "metadata": {},
   "outputs": [
    {
     "data": {
      "text/plain": [
       "array([[251761,  14476],\n",
       "       [ 12696,  30252]], dtype=int64)"
      ]
     },
     "execution_count": 78,
     "metadata": {},
     "output_type": "execute_result"
    }
   ],
   "source": [
    "tab_dt= confusion_matrix(pred_dt,dfnew_y_test)\n",
    "tab_dt"
   ]
  },
  {
   "cell_type": "code",
   "execution_count": 79,
   "metadata": {},
   "outputs": [
    {
     "data": {
      "text/plain": [
       "0.9121173407506833"
      ]
     },
     "execution_count": 79,
     "metadata": {},
     "output_type": "execute_result"
    }
   ],
   "source": [
    "acc_dt= tab_dt.diagonal().sum()/tab_dt.sum()\n",
    "acc_dt"
   ]
  },
  {
   "cell_type": "code",
   "execution_count": 80,
   "metadata": {},
   "outputs": [],
   "source": [
    "#ROC"
   ]
  },
  {
   "cell_type": "code",
   "execution_count": 81,
   "metadata": {},
   "outputs": [
    {
     "data": {
      "text/plain": [
       "0.825007046165582"
      ]
     },
     "execution_count": 81,
     "metadata": {},
     "output_type": "execute_result"
    }
   ],
   "source": [
    "roc_score_dt=roc_auc_score(pred_dt,dfnew_y_test)\n",
    "roc_score_dt"
   ]
  },
  {
   "cell_type": "code",
   "execution_count": 82,
   "metadata": {},
   "outputs": [],
   "source": [
    "#f1 score"
   ]
  },
  {
   "cell_type": "code",
   "execution_count": 83,
   "metadata": {},
   "outputs": [
    {
     "data": {
      "text/plain": [
       "0.6900862265614307"
      ]
     },
     "execution_count": 83,
     "metadata": {},
     "output_type": "execute_result"
    }
   ],
   "source": [
    "f1_dt=f1_score(dfnew_y_test,pred_dt)\n",
    "f1_dt"
   ]
  },
  {
   "cell_type": "markdown",
   "metadata": {},
   "source": [
    "# Random Forest"
   ]
  },
  {
   "cell_type": "code",
   "execution_count": 84,
   "metadata": {},
   "outputs": [],
   "source": [
    "from sklearn.ensemble import RandomForestClassifier\n",
    "rf=RandomForestClassifier()"
   ]
  },
  {
   "cell_type": "code",
   "execution_count": 85,
   "metadata": {},
   "outputs": [
    {
     "data": {
      "text/plain": [
       "RandomForestClassifier()"
      ]
     },
     "execution_count": 85,
     "metadata": {},
     "output_type": "execute_result"
    }
   ],
   "source": [
    "rf.fit(dfnew_x_train,dfnew_y_train)"
   ]
  },
  {
   "cell_type": "code",
   "execution_count": 86,
   "metadata": {},
   "outputs": [],
   "source": [
    "pred_ran=rf.predict(dfnew_x_test)"
   ]
  },
  {
   "cell_type": "code",
   "execution_count": 87,
   "metadata": {},
   "outputs": [
    {
     "data": {
      "text/plain": [
       "array([[253810,  10870],\n",
       "       [ 10647,  33858]], dtype=int64)"
      ]
     },
     "execution_count": 87,
     "metadata": {},
     "output_type": "execute_result"
    }
   ],
   "source": [
    "tab_ran=confusion_matrix(pred_ran,dfnew_y_test)\n",
    "tab_ran"
   ]
  },
  {
   "cell_type": "code",
   "execution_count": 88,
   "metadata": {},
   "outputs": [
    {
     "data": {
      "text/plain": [
       "0.930407361288549"
      ]
     },
     "execution_count": 88,
     "metadata": {},
     "output_type": "execute_result"
    }
   ],
   "source": [
    "acc_ran=tab_ran.diagonal().sum()/tab_ran.sum()\n",
    "acc_ran"
   ]
  },
  {
   "cell_type": "code",
   "execution_count": 89,
   "metadata": {},
   "outputs": [],
   "source": [
    "# ROC"
   ]
  },
  {
   "cell_type": "code",
   "execution_count": 90,
   "metadata": {},
   "outputs": [
    {
     "data": {
      "text/plain": [
       "0.8598499964778041"
      ]
     },
     "execution_count": 90,
     "metadata": {},
     "output_type": "execute_result"
    }
   ],
   "source": [
    "roc_score_rf=roc_auc_score(pred_ran,dfnew_y_test)\n",
    "roc_score_rf"
   ]
  },
  {
   "cell_type": "code",
   "execution_count": 91,
   "metadata": {},
   "outputs": [],
   "source": [
    "#F1 score"
   ]
  },
  {
   "cell_type": "code",
   "execution_count": 92,
   "metadata": {},
   "outputs": [
    {
     "data": {
      "text/plain": [
       "0.7588672352156713"
      ]
     },
     "execution_count": 92,
     "metadata": {},
     "output_type": "execute_result"
    }
   ],
   "source": [
    "f1_rf=f1_score(dfnew_y_test,pred_ran)\n",
    "f1_rf"
   ]
  },
  {
   "cell_type": "markdown",
   "metadata": {},
   "source": [
    "# SVM"
   ]
  },
  {
   "cell_type": "code",
   "execution_count": 93,
   "metadata": {},
   "outputs": [],
   "source": [
    "from sklearn.svm import LinearSVC\n",
    "sv=LinearSVC()"
   ]
  },
  {
   "cell_type": "code",
   "execution_count": 94,
   "metadata": {},
   "outputs": [
    {
     "name": "stderr",
     "output_type": "stream",
     "text": [
      "C:\\Users\\sriva\\anaconda3\\lib\\site-packages\\sklearn\\svm\\_base.py:976: ConvergenceWarning: Liblinear failed to converge, increase the number of iterations.\n",
      "  warnings.warn(\"Liblinear failed to converge, increase \"\n"
     ]
    },
    {
     "data": {
      "text/plain": [
       "LinearSVC()"
      ]
     },
     "execution_count": 94,
     "metadata": {},
     "output_type": "execute_result"
    }
   ],
   "source": [
    "sv.fit(dfnew_x_train,dfnew_y_train)"
   ]
  },
  {
   "cell_type": "code",
   "execution_count": 95,
   "metadata": {},
   "outputs": [],
   "source": [
    "pred_sv= sv.predict(dfnew_x_test)"
   ]
  },
  {
   "cell_type": "code",
   "execution_count": 96,
   "metadata": {},
   "outputs": [
    {
     "data": {
      "text/plain": [
       "array([[253479,  14136],\n",
       "       [ 10978,  30592]], dtype=int64)"
      ]
     },
     "execution_count": 96,
     "metadata": {},
     "output_type": "execute_result"
    }
   ],
   "source": [
    "tab_sv=confusion_matrix(pred_sv,dfnew_y_test)\n",
    "tab_sv"
   ]
  },
  {
   "cell_type": "code",
   "execution_count": 97,
   "metadata": {},
   "outputs": [
    {
     "data": {
      "text/plain": [
       "0.918773549816453"
      ]
     },
     "execution_count": 97,
     "metadata": {},
     "output_type": "execute_result"
    }
   ],
   "source": [
    "acc_sv= tab_sv.diagonal().sum()/tab_sv.sum()\n",
    "acc_sv"
   ]
  },
  {
   "cell_type": "code",
   "execution_count": 98,
   "metadata": {},
   "outputs": [],
   "source": [
    "# ROC AUC"
   ]
  },
  {
   "cell_type": "code",
   "execution_count": 99,
   "metadata": {},
   "outputs": [
    {
     "data": {
      "text/plain": [
       "0.8415465861629652"
      ]
     },
     "execution_count": 99,
     "metadata": {},
     "output_type": "execute_result"
    }
   ],
   "source": [
    "roc_score_svm=roc_auc_score(pred_sv,dfnew_y_test)\n",
    "roc_score_svm"
   ]
  },
  {
   "cell_type": "code",
   "execution_count": 100,
   "metadata": {},
   "outputs": [
    {
     "data": {
      "text/plain": [
       "0.7089851444992932"
      ]
     },
     "execution_count": 100,
     "metadata": {},
     "output_type": "execute_result"
    }
   ],
   "source": [
    "f1_sv=f1_score(dfnew_y_test,pred_sv)\n",
    "f1_sv"
   ]
  },
  {
   "cell_type": "markdown",
   "metadata": {},
   "source": [
    "# Voting Classifier"
   ]
  },
  {
   "cell_type": "code",
   "execution_count": 101,
   "metadata": {},
   "outputs": [],
   "source": [
    "from sklearn.ensemble import VotingClassifier"
   ]
  },
  {
   "cell_type": "code",
   "execution_count": 102,
   "metadata": {},
   "outputs": [],
   "source": [
    "vc= VotingClassifier(estimators=((\"logreg\",logreg),(\"dt\",dt),(\"rf\",rf),(\"sv\",sv)),voting=\"hard\")"
   ]
  },
  {
   "cell_type": "code",
   "execution_count": 103,
   "metadata": {},
   "outputs": [
    {
     "name": "stderr",
     "output_type": "stream",
     "text": [
      "C:\\Users\\sriva\\anaconda3\\lib\\site-packages\\sklearn\\svm\\_base.py:976: ConvergenceWarning: Liblinear failed to converge, increase the number of iterations.\n",
      "  warnings.warn(\"Liblinear failed to converge, increase \"\n"
     ]
    },
    {
     "data": {
      "text/plain": [
       "VotingClassifier(estimators=(('logreg', LogisticRegression()),\n",
       "                             ('dt', DecisionTreeClassifier()),\n",
       "                             ('rf', RandomForestClassifier()),\n",
       "                             ('sv', LinearSVC())))"
      ]
     },
     "execution_count": 103,
     "metadata": {},
     "output_type": "execute_result"
    }
   ],
   "source": [
    "vc.fit(dfnew_x_train,dfnew_y_train)"
   ]
  },
  {
   "cell_type": "code",
   "execution_count": 104,
   "metadata": {},
   "outputs": [],
   "source": [
    "pred_vc= vc.predict(dfnew_x_test)"
   ]
  },
  {
   "cell_type": "code",
   "execution_count": 105,
   "metadata": {},
   "outputs": [
    {
     "data": {
      "text/plain": [
       "array([[259178,  17285],\n",
       "       [  5279,  27443]], dtype=int64)"
      ]
     },
     "execution_count": 105,
     "metadata": {},
     "output_type": "execute_result"
    }
   ],
   "source": [
    "tab_vc=confusion_matrix(pred_vc,dfnew_y_test)\n",
    "tab_vc"
   ]
  },
  {
   "cell_type": "code",
   "execution_count": 106,
   "metadata": {},
   "outputs": [
    {
     "data": {
      "text/plain": [
       "0.9270210391836603"
      ]
     },
     "execution_count": 106,
     "metadata": {},
     "output_type": "execute_result"
    }
   ],
   "source": [
    "acc_vc=tab_vc.diagonal().sum()/tab_vc.sum()\n",
    "acc_vc"
   ]
  },
  {
   "cell_type": "code",
   "execution_count": 107,
   "metadata": {},
   "outputs": [
    {
     "data": {
      "text/plain": [
       "0.8880746507857638"
      ]
     },
     "execution_count": 107,
     "metadata": {},
     "output_type": "execute_result"
    }
   ],
   "source": [
    "roc_score_vc=roc_auc_score(pred_vc,dfnew_y_test)\n",
    "roc_score_vc"
   ]
  },
  {
   "cell_type": "code",
   "execution_count": 108,
   "metadata": {},
   "outputs": [
    {
     "data": {
      "text/plain": [
       "0.7086636539703034"
      ]
     },
     "execution_count": 108,
     "metadata": {},
     "output_type": "execute_result"
    }
   ],
   "source": [
    "f1_vc=f1_score(dfnew_y_test,pred_vc)\n",
    "f1_vc"
   ]
  },
  {
   "cell_type": "markdown",
   "metadata": {},
   "source": [
    "# ACCURACY AND ROC TABLE"
   ]
  },
  {
   "cell_type": "code",
   "execution_count": 109,
   "metadata": {},
   "outputs": [],
   "source": [
    "ML_Algorithm=list([\"Logistic\",\"DecisionTree\",\"Randomforest\",\"SVM\",\"Voting Classifier\"])\n",
    "Accuracy=list([ac_log,acc_dt,acc_ran,acc_sv,acc_vc])\n",
    "ROC_values=list([roc_score_log,roc_score_dt,roc_score_rf,roc_score_svm,roc_score_vc])\n",
    "F1_score=list([f1_log,f1_dt,f1_rf,f1_sv,f1_vc])"
   ]
  },
  {
   "cell_type": "code",
   "execution_count": 110,
   "metadata": {},
   "outputs": [],
   "source": [
    "# create a dataframe in which accuracy, ROC value and F1-score is stored\n",
    "accuracy_df= pd.DataFrame({\"Algorithms\":ML_Algorithm,\"Accuracy\":Accuracy,\"ROCscore\":ROC_values,\"F1_Score\":F1_score})"
   ]
  },
  {
   "cell_type": "code",
   "execution_count": 111,
   "metadata": {},
   "outputs": [
    {
     "data": {
      "text/html": [
       "<div>\n",
       "<style scoped>\n",
       "    .dataframe tbody tr th:only-of-type {\n",
       "        vertical-align: middle;\n",
       "    }\n",
       "\n",
       "    .dataframe tbody tr th {\n",
       "        vertical-align: top;\n",
       "    }\n",
       "\n",
       "    .dataframe thead th {\n",
       "        text-align: right;\n",
       "    }\n",
       "</style>\n",
       "<table border=\"1\" class=\"dataframe\">\n",
       "  <thead>\n",
       "    <tr style=\"text-align: right;\">\n",
       "      <th></th>\n",
       "      <th>Algorithms</th>\n",
       "      <th>Accuracy</th>\n",
       "      <th>ROCscore</th>\n",
       "      <th>F1_Score</th>\n",
       "    </tr>\n",
       "  </thead>\n",
       "  <tbody>\n",
       "    <tr>\n",
       "      <th>2</th>\n",
       "      <td>Randomforest</td>\n",
       "      <td>0.930407</td>\n",
       "      <td>0.859850</td>\n",
       "      <td>0.758867</td>\n",
       "    </tr>\n",
       "    <tr>\n",
       "      <th>0</th>\n",
       "      <td>Logistic</td>\n",
       "      <td>0.911765</td>\n",
       "      <td>0.815705</td>\n",
       "      <td>0.713082</td>\n",
       "    </tr>\n",
       "    <tr>\n",
       "      <th>3</th>\n",
       "      <td>SVM</td>\n",
       "      <td>0.918774</td>\n",
       "      <td>0.841547</td>\n",
       "      <td>0.708985</td>\n",
       "    </tr>\n",
       "    <tr>\n",
       "      <th>4</th>\n",
       "      <td>Voting Classifier</td>\n",
       "      <td>0.927021</td>\n",
       "      <td>0.888075</td>\n",
       "      <td>0.708664</td>\n",
       "    </tr>\n",
       "    <tr>\n",
       "      <th>1</th>\n",
       "      <td>DecisionTree</td>\n",
       "      <td>0.912117</td>\n",
       "      <td>0.825007</td>\n",
       "      <td>0.690086</td>\n",
       "    </tr>\n",
       "  </tbody>\n",
       "</table>\n",
       "</div>"
      ],
      "text/plain": [
       "          Algorithms  Accuracy  ROCscore  F1_Score\n",
       "2       Randomforest  0.930407  0.859850  0.758867\n",
       "0           Logistic  0.911765  0.815705  0.713082\n",
       "3                SVM  0.918774  0.841547  0.708985\n",
       "4  Voting Classifier  0.927021  0.888075  0.708664\n",
       "1       DecisionTree  0.912117  0.825007  0.690086"
      ]
     },
     "execution_count": 111,
     "metadata": {},
     "output_type": "execute_result"
    }
   ],
   "source": [
    "accuracy_df.sort_values(by=\"F1_Score\",ascending=False,inplace=True)\n",
    "accuracy_df"
   ]
  },
  {
   "cell_type": "code",
   "execution_count": 114,
   "metadata": {},
   "outputs": [],
   "source": [
    "# Cross validation"
   ]
  },
  {
   "cell_type": "code",
   "execution_count": 115,
   "metadata": {},
   "outputs": [],
   "source": [
    "from sklearn.model_selection import cross_val_score"
   ]
  },
  {
   "cell_type": "code",
   "execution_count": 116,
   "metadata": {},
   "outputs": [],
   "source": [
    "rf = RandomForestClassifier()"
   ]
  },
  {
   "cell_type": "code",
   "execution_count": 118,
   "metadata": {},
   "outputs": [],
   "source": [
    "cross_val = cross_val_score(rf,dfnew_x_train,dfnew_y_train ,cv = 10,scoring=\"accuracy\")"
   ]
  },
  {
   "cell_type": "code",
   "execution_count": 119,
   "metadata": {},
   "outputs": [
    {
     "data": {
      "text/plain": [
       "array([0.97166258, 0.97218993, 0.97078006, 0.97063983, 0.97111338,\n",
       "       0.97181295, 0.97244794, 0.97203896, 0.97171608, 0.97203896])"
      ]
     },
     "execution_count": 119,
     "metadata": {},
     "output_type": "execute_result"
    }
   ],
   "source": [
    "cross_val"
   ]
  },
  {
   "cell_type": "code",
   "execution_count": 120,
   "metadata": {},
   "outputs": [
    {
     "data": {
      "text/plain": [
       "0.9724479362858527"
      ]
     },
     "execution_count": 120,
     "metadata": {},
     "output_type": "execute_result"
    }
   ],
   "source": [
    "cross_val.max()"
   ]
  },
  {
   "cell_type": "code",
   "execution_count": 121,
   "metadata": {},
   "outputs": [
    {
     "data": {
      "text/plain": [
       "0.9706398321046117"
      ]
     },
     "execution_count": 121,
     "metadata": {},
     "output_type": "execute_result"
    }
   ],
   "source": [
    "cross_val.min()"
   ]
  },
  {
   "cell_type": "code",
   "execution_count": 122,
   "metadata": {},
   "outputs": [
    {
     "data": {
      "text/plain": [
       "0.9716440675536011"
      ]
     },
     "execution_count": 122,
     "metadata": {},
     "output_type": "execute_result"
    }
   ],
   "source": [
    "cross_val.mean()"
   ]
  },
  {
   "cell_type": "markdown",
   "metadata": {},
   "source": [
    "# Conclusion"
   ]
  },
  {
   "cell_type": "code",
   "execution_count": 112,
   "metadata": {},
   "outputs": [],
   "source": [
    "# We get best accuracy, ROC_score and F1_score with Random Forest"
   ]
  },
  {
   "cell_type": "code",
   "execution_count": 113,
   "metadata": {},
   "outputs": [],
   "source": [
    "#-----------------------------------------------------------------------------------------------------------------------------#"
   ]
  }
 ],
 "metadata": {
  "kernelspec": {
   "display_name": "Python 3",
   "language": "python",
   "name": "python3"
  },
  "language_info": {
   "codemirror_mode": {
    "name": "ipython",
    "version": 3
   },
   "file_extension": ".py",
   "mimetype": "text/x-python",
   "name": "python",
   "nbconvert_exporter": "python",
   "pygments_lexer": "ipython3",
   "version": "3.8.3"
  }
 },
 "nbformat": 4,
 "nbformat_minor": 4
}
